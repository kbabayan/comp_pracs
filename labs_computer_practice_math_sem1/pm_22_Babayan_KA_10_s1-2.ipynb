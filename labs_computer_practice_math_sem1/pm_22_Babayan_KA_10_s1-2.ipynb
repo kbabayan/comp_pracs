{
 "cells": [
  {
   "cell_type": "markdown",
   "id": "e3f722bf-ae6f-4aa6-b0a8-2eb7c942fddc",
   "metadata": {},
   "source": [
    "Лабораторная работа номер 10"
   ]
  },
  {
   "cell_type": "code",
   "execution_count": 10,
   "id": "0dc3aa41-1956-4b7a-a3e9-aeab80e38a9a",
   "metadata": {
    "tags": []
   },
   "outputs": [],
   "source": [
    "import numpy as np\n",
    "from sympy import *"
   ]
  },
  {
   "cell_type": "markdown",
   "id": "ff7480a5-1e33-4e58-b748-4f1b4145658c",
   "metadata": {},
   "source": [
    "Упражнение 1"
   ]
  },
  {
   "cell_type": "code",
   "execution_count": 11,
   "id": "74c821f7-978f-4f0b-8d28-087b7123dc30",
   "metadata": {
    "tags": []
   },
   "outputs": [],
   "source": [
    "x = symbols('x')\n",
    "y = cos(x)\n",
    "n = 0\n",
    "x1 = float(diff(y,x,1).subs(x,1))\n",
    "x2 = float(diff(y,x,2).subs(x,1))\n",
    "x3 = float(diff(y,x,3).subs(x,1))\n",
    "x4 = float(diff(y,x,4).subs(x,1))\n",
    "x5 = float(diff(y,x,5).subs(x,1))\n",
    "\n",
    "f = open('ex_1.txt','a')\n",
    "f.write('Таблица производных функции y = cos(x)\\n')\n",
    "f.write(\" _________________ \\n\")\n",
    "f.write(\"|   n   |    y'   |\\n\")\n",
    "f.write(\" _________________ \\n\")\n",
    "for i in x1,x2,x3,x4,x5:\n",
    "    n = n+1\n",
    "    f.write(\"|   {n:1.0f}   | {i:7.4f} |\\n\".format(i=i,n=n))\n",
    "f.write('|_______|_________|')\n",
    "f.close()"
   ]
  },
  {
   "cell_type": "code",
   "execution_count": 12,
   "id": "5deb2b4c-2084-4afc-92b5-7915a8182bfc",
   "metadata": {
    "tags": []
   },
   "outputs": [
    {
     "name": "stdout",
     "output_type": "stream",
     "text": [
      "Таблица производных функции y = cos(x)\n",
      " _________________ \n",
      "|   n   |    y'   |\n",
      " _________________ \n",
      "|   1   | -0.8415 |\n",
      "|   2   | -0.5403 |\n",
      "|   3   |  0.8415 |\n",
      "|   4   |  0.5403 |\n",
      "|   5   | -0.8415 |\n",
      "|_______|_________|\n"
     ]
    }
   ],
   "source": [
    "file = open(\"ex_1.txt\", \"r\")\n",
    "print(file.read())\n",
    "file.close()"
   ]
  },
  {
   "cell_type": "markdown",
   "id": "0ff7d45f-a880-4f4e-a435-aa1fcb39c3bb",
   "metadata": {},
   "source": [
    "Упражнение 2"
   ]
  },
  {
   "cell_type": "code",
   "execution_count": 13,
   "id": "3df2aaa4-ad85-45cc-9157-2e11f49b2ee1",
   "metadata": {
    "tags": []
   },
   "outputs": [
    {
     "name": "stdout",
     "output_type": "stream",
     "text": [
      "0     \t1      \t2      \t3     \t4     \t5      \n",
      "cos(x)\t-sin(x)\t-cos(x)\tsin(x)\tcos(x)\t-sin(x)\n",
      "1     \t0      \t-1     \t0     \t1     \t0      \n",
      "\n",
      "\n",
      "0     \t1     \t2      \t3      \t4     \t5     \n",
      "sin(x)\tcos(x)\t-sin(x)\t-cos(x)\tsin(x)\tcos(x)\n",
      "0     \t1     \t0      \t-1     \t0     \t1     \n",
      "\n",
      "\n",
      "0         \t1        \t2            \t3           \t4            \t5            \n",
      "log(x + 1)\t1/(x + 1)\t-1/(x + 1)**2\t2/(x + 1)**3\t-6/(x + 1)**4\t24/(x + 1)**5\n",
      "0         \t1        \t-1           \t2           \t-6           \t24           \n",
      "\n",
      "\n"
     ]
    }
   ],
   "source": [
    "def rowPrint(array):\n",
    "    s = [[str(e) for e in row] for row in array]\n",
    "    lens = [max(map(len, col)) for col in zip(*s)]\n",
    "    fmt = '\\t'.join('{{:{}}}'.format(x) for x in lens)\n",
    "    table = [fmt.format(*row) for row in s]\n",
    "    print('\\n'.join(table))\n",
    "    print(\"\\n\")\n",
    "\n",
    "\n",
    "def collectArray(function, derNumber, point):\n",
    "    y = function\n",
    "    arr = [[], [], []]\n",
    "    for i in range(derNumber + 1):\n",
    "        arr[0].append(i)\n",
    "        arr[1].append(y)\n",
    "        arr[2].append(round(y.subs(x, point), 2))\n",
    "        y = y.diff(x)\n",
    "    return arr\n",
    "\n",
    "x = Symbol('x')\n",
    "\n",
    "y = cos(x)\n",
    "rowPrint(collectArray(y, 5, 0))\n",
    "\n",
    "y = sin(x)\n",
    "rowPrint(collectArray(y, 5, 0))\n",
    "\n",
    "y = ln(1 + x)\n",
    "rowPrint(collectArray(y, 5, 0))"
   ]
  },
  {
   "cell_type": "markdown",
   "id": "43a2695b-e37e-41d8-9e26-93635e58e561",
   "metadata": {},
   "source": [
    "Упражнение 3"
   ]
  },
  {
   "cell_type": "code",
   "execution_count": 14,
   "id": "e6a5c6fc-80ee-457b-aece-d21e0839fab7",
   "metadata": {
    "tags": []
   },
   "outputs": [
    {
     "name": "stdout",
     "output_type": "stream",
     "text": [
      "[1, 0, -1, 0, 1]\n",
      "[0, 1, 0, -1, 0]\n",
      "[0, 1, -1, 2, -6, 24, -120, 720]\n"
     ]
    }
   ],
   "source": [
    "def getFuncDerValue(func, point, n):\n",
    "    arr = []\n",
    "    for i in range(n + 1):\n",
    "        arr.append(round(func.subs(x, point), 2))\n",
    "        func = func.diff(x)\n",
    "    return arr\n",
    "\n",
    "x = Symbol('x')\n",
    "\n",
    "print(getFuncDerValue(cos(x), 0, 4))\n",
    "print(getFuncDerValue(sin(x), 0, 4))\n",
    "print(getFuncDerValue(ln(1 + x), 0, 7))"
   ]
  },
  {
   "cell_type": "markdown",
   "id": "03918b38-a956-4383-b939-4e6b897f1535",
   "metadata": {},
   "source": [
    "Упражнение 4"
   ]
  },
  {
   "cell_type": "code",
   "execution_count": 15,
   "id": "c09229a7-b9b0-4aec-a4f0-19561ae1f8d9",
   "metadata": {},
   "outputs": [],
   "source": [
    "import math\n",
    "\n",
    "def getTaylor(array):\n",
    "    x0 = array[0]\n",
    "    n = array[1]\n",
    "    vec = array[2]\n",
    "    collectTaylor(x0, n, vec)\n",
    "\n",
    "def collectTaylor(point, num, values):\n",
    "    larr = []\n",
    "    for i in range(num + 1):\n",
    "        larr.append(round(values[i] / math.factorial(i), i + 2) * (x - point) ** i)\n",
    "    eq = 0\n",
    "    for i in range(len(larr)):\n",
    "        eq += larr[i]\n",
    "    print(eq)\n",
    "\n",
    "def getFuncDerValue(func, point, n):\n",
    "    arr = []\n",
    "    for i in range(n + 1):\n",
    "        arr.append(round(func.subs(x, point), 2))\n",
    "        func = func.diff(x)\n",
    "    return arr\n"
   ]
  },
  {
   "cell_type": "markdown",
   "id": "535a0daa-c90e-4338-8500-a9bf0388020f",
   "metadata": {},
   "source": [
    "А)"
   ]
  },
  {
   "cell_type": "code",
   "execution_count": 16,
   "id": "d6b3f2e9-6f4b-4969-9c0a-32e31b0e5ad3",
   "metadata": {
    "tags": []
   },
   "outputs": [
    {
     "name": "stdout",
     "output_type": "stream",
     "text": [
      "f(x) = sin(x)\n",
      "x\n",
      "x\n",
      "-0.16667*x**3 + x\n"
     ]
    }
   ],
   "source": [
    "x = Symbol('x')\n",
    "\n",
    "print('f(x) = sin(x)')\n",
    "f = sin(x)\n",
    "n = 1\n",
    "point = 0\n",
    "getTaylor([point, n, getFuncDerValue(f, point, n)])\n",
    "\n",
    "n = 2\n",
    "point = 0\n",
    "getTaylor([point, n, getFuncDerValue(f, point, n)])\n",
    "\n",
    "n = 3\n",
    "point = 0\n",
    "getTaylor([point, n, getFuncDerValue(f, point, n)])"
   ]
  },
  {
   "cell_type": "code",
   "execution_count": 17,
   "id": "d9f2a4b9-cfb1-42e6-8f9c-65c294ff842f",
   "metadata": {
    "tags": []
   },
   "outputs": [
    {
     "data": {
      "image/png": "[encoded data removed]",
      "text/plain": [
       "<Figure size 640x480 with 1 Axes>"
      ]
     },
     "metadata": {},
     "output_type": "display_data"
    }
   ],
   "source": [
    "import matplotlib.pyplot as plt\n",
    "\n",
    "def f(x):\n",
    "    return np.sin(x)\n",
    "\n",
    "x = np.arange(-5, 5, 0.1)\n",
    "plt.plot(x, f(x), \"r\")\n",
    "\n",
    "plt.plot(x, x, \"b\", label='n=1')\n",
    "plt.plot(x, x, label='n=2')\n",
    "plt.plot(x, -0.16667 * x ** 3 + x, \"g\", label='n=3')\n",
    "\n",
    "# параметры координатной плоскости\n",
    "plt.xlabel(\"x\")\n",
    "plt.ylabel(\"y\", rotation=0)\n",
    "plt.grid()\n",
    "plt.legend()\n",
    "plt.axhline(y=0, color='k')\n",
    "plt.axvline(x=0, color='k')\n",
    "\n",
    "plt.show()"
   ]
  },
  {
   "cell_type": "markdown",
   "id": "65185036-a308-4e3a-854b-558748c4e444",
   "metadata": {},
   "source": [
    "Б)"
   ]
  },
  {
   "cell_type": "code",
   "execution_count": 18,
   "id": "62334f65-5237-4999-8df3-f2871dd1d885",
   "metadata": {
    "tags": []
   },
   "outputs": [
    {
     "name": "stdout",
     "output_type": "stream",
     "text": [
      "f(x) = cos(x)\n",
      "1\n",
      "1 - 0.5*x**2\n",
      "0.041667*x**4 - 0.5*x**2 + 1\n"
     ]
    }
   ],
   "source": [
    "x = Symbol('x')\n",
    "print('f(x) = cos(x)')\n",
    "f = cos(x)\n",
    "n = 1\n",
    "point = 0\n",
    "getTaylor([point, n, getFuncDerValue(f, point, n)])\n",
    "\n",
    "n = 2\n",
    "point = 0\n",
    "getTaylor([point, n, getFuncDerValue(f, point, n)])\n",
    "\n",
    "n = 4\n",
    "point = 0\n",
    "getTaylor([point, n, getFuncDerValue(f, point, n)])"
   ]
  },
  {
   "cell_type": "code",
   "execution_count": 19,
   "id": "d773951d-8e8a-4678-9410-131e558077f9",
   "metadata": {
    "tags": []
   },
   "outputs": [
    {
     "data": {
      "image/png": "[encoded data removed]",
      "text/plain": [
       "<Figure size 640x480 with 1 Axes>"
      ]
     },
     "metadata": {},
     "output_type": "display_data"
    }
   ],
   "source": [
    "def f(x):\n",
    "    return np.cos(x)\n",
    "\n",
    "x = np.arange(-4, 4, 0.1)\n",
    "plt.plot(x, f(x), \"r\", label='n=0')\n",
    "\n",
    "plt.plot(x, 1+0*x, \"g\", label='n=1')\n",
    "plt.plot(x, 1 - 0.5*x**2, \"b\", label='n=2')\n",
    "plt.plot(x, 0.041667*x**4 - 0.5*x**2 + 1, label='n=4')\n",
    "\n",
    "# параметры координатной плоскости\n",
    "plt.xlabel(\"x\")\n",
    "plt.ylabel(\"y\", rotation=0)\n",
    "plt.grid()\n",
    "plt.legend()\n",
    "plt.axhline(y=0, color='k')\n",
    "plt.axvline(x=0, color='k')\n",
    "\n",
    "plt.show()"
   ]
  },
  {
   "cell_type": "markdown",
   "id": "864d4b55-ef8d-4287-b2c4-d3c8cbde5167",
   "metadata": {},
   "source": [
    "В)"
   ]
  },
  {
   "cell_type": "code",
   "execution_count": 20,
   "id": "d73b7600-ef56-4bfd-b4d4-d8f76314a2f6",
   "metadata": {
    "tags": []
   },
   "outputs": [
    {
     "name": "stdout",
     "output_type": "stream",
     "text": [
      "f(x) = ln(4 + x)\n",
      "1\n",
      "1 - 0.5*x**2\n",
      "0.041667*x**4 - 0.5*x**2 + 1\n"
     ]
    }
   ],
   "source": [
    "x = Symbol('x')\n",
    "print('f(x) = ln(4 + x)')\n",
    "f = cos(x)\n",
    "n = 1\n",
    "point = 0\n",
    "getTaylor([point, n, getFuncDerValue(f, point, n)])\n",
    "\n",
    "n = 2\n",
    "point = 0\n",
    "getTaylor([point, n, getFuncDerValue(f, point, n)])\n",
    "\n",
    "n = 4\n",
    "point = 0\n",
    "getTaylor([point, n, getFuncDerValue(f, point, n)])"
   ]
  },
  {
   "cell_type": "code",
   "execution_count": 21,
   "id": "e967106f-9916-4623-94f7-1bedb61a8673",
   "metadata": {
    "tags": []
   },
   "outputs": [
    {
     "data": {
      "image/png": "[encoded data removed]",
      "text/plain": [
       "<Figure size 640x480 with 1 Axes>"
      ]
     },
     "metadata": {},
     "output_type": "display_data"
    }
   ],
   "source": [
    "def f(x):\n",
    "    return np.log(4+x)\n",
    "\n",
    "x = np.arange(-3, 4, 0.1)\n",
    "plt.plot(x, f(x), \"r\", label='n=0')\n",
    "\n",
    "plt.plot(x, 0.2*x + 1.41, \"g\", label='n=1')\n",
    "plt.plot(x, 0.2*x - 0.02*(x - 1)**2 + 1.41, \"b\", label='n=2')\n",
    "plt.plot(x, 0.2*x - 0.0004*(x - 1)**4 + 0.003*(x - 1)**3 - 0.02*(x - 1)**2 + 1.41, label='n=4')\n",
    "\n",
    "# параметры координатной плоскости\n",
    "plt.xlabel(\"x\")\n",
    "plt.ylabel(\"y\", rotation=0)\n",
    "plt.grid()\n",
    "plt.legend()\n",
    "plt.axhline(y=0, color='k')\n",
    "plt.axvline(x=0, color='k')\n",
    "\n",
    "plt.show()"
   ]
  },
  {
   "cell_type": "markdown",
   "id": "536d6499-55f6-44fb-be62-b8a22494a357",
   "metadata": {},
   "source": [
    "С1"
   ]
  },
  {
   "cell_type": "code",
   "execution_count": 22,
   "id": "9cf049e3-6dc6-4c56-9f54-9e7563997cb8",
   "metadata": {
    "tags": []
   },
   "outputs": [
    {
     "name": "stdout",
     "output_type": "stream",
     "text": [
      "0.25*x + 2\n",
      "-0.02*x**2 + 0.25*x + 2\n",
      "-0.0004*x**4 + 0.002*x**3 - 0.02*x**2 + 0.25*x + 2\n"
     ]
    }
   ],
   "source": [
    "def f(x):\n",
    "    return np.sqrt(4+x)\n",
    "\n",
    "def getTaylor(array):\n",
    "    x0 = array[0]\n",
    "    n = array[1]\n",
    "    vec = array[2]\n",
    "    collectTaylor(x0, n, vec)\n",
    "\n",
    "def collectTaylor(point, num, values):\n",
    "    larr = []\n",
    "    for i in range(num + 1):\n",
    "        larr.append(round(values[i] / math.factorial(i), i + 2) * (x - point) ** i)\n",
    "    eq = 0\n",
    "    for i in range(len(larr)):\n",
    "        eq += larr[i]\n",
    "    print(eq)\n",
    "\n",
    "def getFuncDerValue(func, point, n):\n",
    "    arr = []\n",
    "    for i in range(n + 1):\n",
    "        arr.append(round(func.subs(x, point), 2))\n",
    "        func = func.diff(x)\n",
    "    return arr\n",
    "\n",
    "x = Symbol('x')\n",
    "\n",
    "function = sqrt(4+x)\n",
    "\n",
    "n = 1\n",
    "point = 0\n",
    "getTaylor([point, n, getFuncDerValue(function, point, n)])\n",
    "\n",
    "n = 2\n",
    "point = 0\n",
    "getTaylor([point, n, getFuncDerValue(function, point, n)])\n",
    "\n",
    "n = 4\n",
    "point = 0\n",
    "getTaylor([point, n, getFuncDerValue(function, point, n)])"
   ]
  },
  {
   "cell_type": "markdown",
   "id": "557271db-317f-4e8b-bece-3d8d82f48dcb",
   "metadata": {},
   "source": [
    "C2"
   ]
  },
  {
   "cell_type": "code",
   "execution_count": 23,
   "id": "82bbee5a-4f53-4268-aebd-199b38150e31",
   "metadata": {
    "tags": []
   },
   "outputs": [
    {
     "name": "stdout",
     "output_type": "stream",
     "text": [
      "            7             6            5             4          3\n",
      "-0.0001984 x - 2.263e-13 x + 0.008333 x + 4.623e-14 x - 0.1667 x\n",
      "              2\n",
      " - 2.722e-15 x + 1 x + 2.394e-17\n"
     ]
    }
   ],
   "source": [
    "# a)\n",
    "\n",
    "from scipy.interpolate import approximate_taylor_polynomial\n",
    "import numpy as np\n",
    "\n",
    "point = 0\n",
    "n = 7\n",
    "\n",
    "def f(x):\n",
    "    return np.sin(x)\n",
    "\n",
    "print(approximate_taylor_polynomial(f, point, n, 1, order=n+10))"
   ]
  },
  {
   "cell_type": "code",
   "execution_count": 24,
   "id": "967554c0-271b-4ced-bdab-2aaaedd8874b",
   "metadata": {
    "tags": []
   },
   "outputs": [
    {
     "name": "stdout",
     "output_type": "stream",
     "text": [
      "           7            6            5           4          3       2\n",
      "0.0001984 x + 0.001389 x + 0.008333 x + 0.04167 x + 0.1667 x + 0.5 x + 1 x + 1\n"
     ]
    }
   ],
   "source": [
    "def f(x):\n",
    "    return np.e**x\n",
    "\n",
    "print(approximate_taylor_polynomial(f, point, n, 1, order=n+10))"
   ]
  },
  {
   "cell_type": "code",
   "execution_count": 25,
   "id": "df735c85-7471-40d8-a42f-3ced593382b1",
   "metadata": {
    "tags": []
   },
   "outputs": [
    {
     "name": "stdout",
     "output_type": "stream",
     "text": [
      "       7         6         5          4          3          2\n",
      "26.57 x + 9.616 x - 4.403 x - 0.9147 x + 0.6622 x - 0.4873 x + 0.9936 x - 1.521e-16\n"
     ]
    }
   ],
   "source": [
    "def f(x):\n",
    "    return np.log(1+x)\n",
    "\n",
    "print(approximate_taylor_polynomial(f, point, n, 1, order=n+10))"
   ]
  },
  {
   "cell_type": "code",
   "execution_count": 26,
   "id": "ba55d178-dc9b-444b-9d0a-186a24862707",
   "metadata": {
    "tags": []
   },
   "outputs": [
    {
     "name": "stdout",
     "output_type": "stream",
     "text": [
      "         7             6          5             4          3\n",
      "0.05165 x + 5.134e-12 x + 0.1337 x - 7.139e-13 x + 0.3333 x\n",
      "              2\n",
      " - 3.908e-16 x + 1 x + 6.387e-17\n"
     ]
    }
   ],
   "source": [
    "def f(x):\n",
    "    return np.tan(x)\n",
    "\n",
    "print(approximate_taylor_polynomial(f, point, n, 1, order=n+10))"
   ]
  },
  {
   "cell_type": "code",
   "execution_count": 27,
   "id": "cc375096-fba0-40d6-9b34-2e3df49dd123",
   "metadata": {
    "tags": []
   },
   "outputs": [
    {
     "name": "stdout",
     "output_type": "stream",
     "text": [
      "            5           4             3       2\n",
      "-4.049e-14 x + 0.04167 x + 7.645e-15 x - 0.5 x - 2.855e-16 x + 1\n"
     ]
    }
   ],
   "source": [
    "# б)\n",
    "\n",
    "point = np.pi/2\n",
    "n = 5\n",
    "\n",
    "def f(x):\n",
    "    return np.sin(x)\n",
    "\n",
    "print(approximate_taylor_polynomial(f, point, n, 1, order=n+10))"
   ]
  },
  {
   "cell_type": "code",
   "execution_count": 28,
   "id": "638128d7-dbfb-4175-b6d7-7a014afd8dcc",
   "metadata": {
    "tags": []
   },
   "outputs": [
    {
     "name": "stdout",
     "output_type": "stream",
     "text": [
      "           5             4          3             2\n",
      "-0.008333 x + 8.931e-15 x + 0.1667 x - 8.973e-16 x - 1 x + 1.066e-16\n"
     ]
    }
   ],
   "source": [
    "def f(x):\n",
    "    return np.cos(x)\n",
    "\n",
    "print(approximate_taylor_polynomial(f, point, n, 1, order=n+10))"
   ]
  },
  {
   "cell_type": "code",
   "execution_count": null,
   "id": "19e0a652-aa42-48bb-baa0-1a660d905248",
   "metadata": {},
   "outputs": [],
   "source": []
  }
 ],
 "metadata": {
  "kernelspec": {
   "display_name": "Python 3 (ipykernel)",
   "language": "python",
   "name": "python3"
  },
  "language_info": {
   "codemirror_mode": {
    "name": "ipython",
    "version": 3
   },
   "file_extension": ".py",
   "mimetype": "text/x-python",
   "name": "python",
   "nbconvert_exporter": "python",
   "pygments_lexer": "ipython3",
   "version": "3.11.5"
  }
 },
 "nbformat": 4,
 "nbformat_minor": 5
}
