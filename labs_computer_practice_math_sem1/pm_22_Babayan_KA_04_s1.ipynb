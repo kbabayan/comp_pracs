{
 "cells": [
  {
   "cell_type": "markdown",
   "id": "36d48a8e-7045-4d3d-b2c5-0d61c6002579",
   "metadata": {},
   "source": [
    "Лабораторная работа номер 4"
   ]
  },
  {
   "cell_type": "markdown",
   "id": "4c57edf3-fdfa-4302-93b7-1e6d53482999",
   "metadata": {},
   "source": [
    "Упражнение 1"
   ]
  },
  {
   "cell_type": "code",
   "execution_count": 15,
   "id": "9b41a5f8-fb01-49bb-9504-c3790f58d8e6",
   "metadata": {
    "tags": []
   },
   "outputs": [
    {
     "name": "stdout",
     "output_type": "stream",
     "text": [
      "[ 2.00000000e+00+0.00000000e+00j  1.41421356e+00+7.07106781e-01j\n",
      "  1.22464680e-16+1.00000000e+00j -1.41421356e+00+7.07106781e-01j\n",
      " -2.00000000e+00+1.22464680e-16j -1.41421356e+00-7.07106781e-01j\n",
      " -3.67394040e-16-1.00000000e+00j  1.41421356e+00-7.07106781e-01j]\n",
      "\n",
      "[False False False  True  True  True  True False]\n",
      "[ True False False False  True False False False]\n",
      "[False False  True  True  True False False False]\n"
     ]
    }
   ],
   "source": [
    "import matplotlib.pyplot as plt\n",
    "import numpy as np\n",
    "\n",
    "n = np.arange(0, 8, 1)\n",
    "z = 2*(np.cos(2*np.pi*n/8)) + 1j * np.sin(2*np.pi*n/8)\n",
    "print(z)\n",
    "print()\n",
    "print(np.less(np.real(z),0))\n",
    "print(np.isclose(np.imag(z),0))\n",
    "print(np.greater(np.angle(z),np.pi/3))"
   ]
  },
  {
   "cell_type": "markdown",
   "id": "8cc5768f-af32-46a5-b0a4-6c22dd9da52d",
   "metadata": {},
   "source": [
    "Упражнение 2"
   ]
  },
  {
   "cell_type": "code",
   "execution_count": 2,
   "id": "400e9702-83e0-4257-9809-4918c0351cd3",
   "metadata": {
    "tags": []
   },
   "outputs": [
    {
     "name": "stdout",
     "output_type": "stream",
     "text": [
      "False\n",
      "True\n"
     ]
    }
   ],
   "source": [
    "z1 = 2 - 3j\n",
    "z2 = 5 + 1j\n",
    "print((np.angle(z1) > np.pi/3) and (np.angle(z2) <= np.pi*5/6))\n",
    "print((np.real(3*z1 + 2*z2) < 8) or (np.imag(z1 - z2) != 2))"
   ]
  },
  {
   "cell_type": "markdown",
   "id": "c9728a3a-2e8c-4dc7-89a6-e8a7dcaff0a1",
   "metadata": {},
   "source": [
    "Упражнение 3"
   ]
  },
  {
   "cell_type": "code",
   "execution_count": 4,
   "id": "ae948f72-05a6-4201-bd58-cc60ee2ce69c",
   "metadata": {
    "tags": []
   },
   "outputs": [
    {
     "name": "stdout",
     "output_type": "stream",
     "text": [
      "[ True  True False False False  True  True False]\n",
      "[ 1.000e+00   +3.j -8.000e+00   +6.j  3.520e+02 +936.j -2.456e+03+1992.j]\n",
      "\n",
      "[False False False  True  True False False False]\n",
      "[ 28.-96.j 316.-12.j]\n"
     ]
    }
   ],
   "source": [
    "k = np.arange(1, 9, 1)\n",
    "z = ((1+3j)**k)\n",
    "\n",
    "# a\n",
    "a = (np.imag(z) > 2)\n",
    "print(a)\n",
    "print(z[a])\n",
    "\n",
    "print()\n",
    "\n",
    "# b\n",
    "a = (np.imag(z) <= np.real(z))\n",
    "print(a)\n",
    "print(z[a])"
   ]
  },
  {
   "cell_type": "markdown",
   "id": "a09fe196-b256-4466-b16d-25b20480f4d3",
   "metadata": {},
   "source": [
    "Упражнение 4"
   ]
  },
  {
   "cell_type": "code",
   "execution_count": 10,
   "id": "4b9bf566-ae0a-446f-bc58-96c8e81af5fb",
   "metadata": {
    "tags": []
   },
   "outputs": [
    {
     "name": "stdout",
     "output_type": "stream",
     "text": [
      "[3.-1.j 3.-2.j 3.-3.j 3.-4.j 3.-5.j 3.-6.j 3.-7.j 3.-8.j 3.-9.j]\n",
      "\n",
      "[3.-1.j 3.-2.j 0.+0.j 0.+0.j 0.+0.j 0.+0.j 3.-7.j 3.-8.j 3.-9.j]\n"
     ]
    }
   ],
   "source": [
    "k = np.arange(1, 10, 1)\n",
    "z = (3 - 1j*k)\n",
    "print(z)\n",
    "\n",
    "a = (np.abs(z) > 4) & (np.abs(z) <= 7)\n",
    "z[a] = 0\n",
    "\n",
    "print()\n",
    "print(z)"
   ]
  },
  {
   "cell_type": "markdown",
   "id": "d04d664f-a966-474c-95d4-5425468d8ef7",
   "metadata": {},
   "source": [
    "Упражнение 5"
   ]
  },
  {
   "cell_type": "code",
   "execution_count": 12,
   "id": "3d64a094-517f-4150-a340-61ab9058b63c",
   "metadata": {
    "tags": []
   },
   "outputs": [
    {
     "data": {
      "image/png": "[encoded data removed]",
      "text/plain": [
       "<Figure size 640x480 with 1 Axes>"
      ]
     },
     "metadata": {},
     "output_type": "display_data"
    }
   ],
   "source": [
    "import numpy.random as rnd\n",
    "\n",
    "x = 3 - 6*rnd.rand(1000000)\n",
    "y = 3 - 4*rnd.rand(1000000)\n",
    "z =  x+1j*y\n",
    "L = ((np.abs(z-1-1j)>=1) & (np.abs(z-1-1j)<=2))\n",
    "plt.plot(x[L],y[L],'.r')\n",
    "plt.axis('equal')\n",
    "plt.grid(True)\n",
    "plt.axhline(y=0, color='k')\n",
    "plt.axvline(x=0, color='k')\n",
    "plt.title('$ 2 \\geq  | z - 1 - i | \\geq 1 $')\n",
    "plt.xlabel('Re(z)')\n",
    "plt.ylabel('Im(z)')\n",
    "plt.show()"
   ]
  },
  {
   "cell_type": "markdown",
   "id": "a2d1461d-928b-43c7-af38-7edb04595966",
   "metadata": {},
   "source": [
    "C1"
   ]
  },
  {
   "cell_type": "code",
   "execution_count": 14,
   "id": "8c4b3562-fd8a-4acc-8a8e-baee4903c57b",
   "metadata": {
    "tags": []
   },
   "outputs": [
    {
     "name": "stdout",
     "output_type": "stream",
     "text": [
      "[ 1.84775907+0.38268343j  0.76536686+0.92387953j -0.76536686+0.92387953j\n",
      " -1.84775907+0.38268343j -1.84775907-0.38268343j -0.76536686-0.92387953j\n",
      "  0.76536686-0.92387953j  1.84775907-0.38268343j]\n",
      "\n",
      "[False False  True  True  True  True False False]\n",
      "[False False False False False False False False]\n",
      "[False False  True  True False False False False]\n"
     ]
    }
   ],
   "source": [
    "n = np.arange(0, 8, 1)\n",
    "z = 2*(np.cos((np.pi+2*np.pi*n)/8)) + 1j * np.sin((np.pi+2*np.pi*n)/8)\n",
    "print(z)\n",
    "print()\n",
    "print(np.less(np.real(z),0))\n",
    "print(np.isclose(np.imag(z),0))\n",
    "print(np.greater(np.angle(z),2*np.pi/3))"
   ]
  },
  {
   "cell_type": "markdown",
   "id": "db110437-38dd-47c1-b2c8-3ec52ca5c6b8",
   "metadata": {},
   "source": [
    "C2"
   ]
  },
  {
   "cell_type": "code",
   "execution_count": 16,
   "id": "df835131-a4f5-4e24-87cc-cb975c25cfc2",
   "metadata": {
    "tags": []
   },
   "outputs": [
    {
     "name": "stdout",
     "output_type": "stream",
     "text": [
      "False\n",
      "True\n"
     ]
    }
   ],
   "source": [
    "z1 = 2 - 3j\n",
    "z2 = 5 + 1j\n",
    "print((np.abs(z1) >= 5) & (np.abs(z1) < 6))\n",
    "print((np.abs(z1) < 4) ^ (np.abs(z2) < 4))"
   ]
  },
  {
   "cell_type": "markdown",
   "id": "749a1a79-f2ff-4f67-a9bc-d6aafcb26b74",
   "metadata": {},
   "source": [
    "С3"
   ]
  },
  {
   "cell_type": "code",
   "execution_count": 17,
   "id": "cdf8a918-ad47-4287-8bcd-ffcaa2ca9f05",
   "metadata": {
    "tags": []
   },
   "outputs": [
    {
     "name": "stdout",
     "output_type": "stream",
     "text": [
      "[False False False  True  True  True False False]\n",
      "[ 28. +96.j 316. +12.j 352.-936.j]\n",
      "\n",
      "[ True False False False  True  True False False]\n",
      "[  1.  -3.j 316. +12.j 352.-936.j]\n"
     ]
    }
   ],
   "source": [
    "k = np.arange(1, 9, 1)\n",
    "z = ((1-3j)**k)\n",
    "\n",
    "# a\n",
    "a = (np.real(z) > 2)\n",
    "print(a)\n",
    "print(z[a])\n",
    "\n",
    "print()\n",
    "\n",
    "# b\n",
    "a = (np.imag(z) <= np.real(z))\n",
    "print(a)\n",
    "print(z[a])"
   ]
  },
  {
   "cell_type": "markdown",
   "id": "1a9f8613-c1c3-4b2b-82eb-5b5ee95a399e",
   "metadata": {},
   "source": [
    "C4"
   ]
  },
  {
   "cell_type": "code",
   "execution_count": 18,
   "id": "4ae0701b-2a0f-4523-ab17-dae7df467955",
   "metadata": {
    "tags": []
   },
   "outputs": [
    {
     "name": "stdout",
     "output_type": "stream",
     "text": [
      "[2.-1.j 2.-2.j 2.-3.j 2.-4.j 2.-5.j 2.-6.j 2.-7.j 2.-8.j 2.-9.j]\n",
      "\n",
      "[0.+0.j 0.+0.j 0.+0.j 0.+0.j 2.-5.j 2.-6.j 2.-7.j 2.-8.j 2.-9.j]\n"
     ]
    }
   ],
   "source": [
    "k = np.arange(1, 10, 1)\n",
    "z = (2 - 1j*k)\n",
    "print(z)\n",
    "\n",
    "a = (np.abs(z) > 2) & (np.abs(z) <= 5)\n",
    "z[a] = 0\n",
    "\n",
    "print()\n",
    "print(z)"
   ]
  },
  {
   "cell_type": "markdown",
   "id": "13a42805-05e3-4083-a1cd-5bce334b5847",
   "metadata": {},
   "source": [
    "C5"
   ]
  },
  {
   "cell_type": "code",
   "execution_count": 20,
   "id": "735b0efa-dc4c-4dde-8aa5-ed5daf348a67",
   "metadata": {
    "tags": []
   },
   "outputs": [
    {
     "data": {
      "image/png": "[encoded data removed]",
      "text/plain": [
       "<Figure size 640x480 with 1 Axes>"
      ]
     },
     "metadata": {},
     "output_type": "display_data"
    }
   ],
   "source": [
    "x = 4 - 5*rnd.rand(1000000)\n",
    "y = 4 - 10*rnd.rand(1000000)\n",
    "z = x + 1j*y\n",
    "L = ((np.abs(z-1)<=2) & (np.abs(np.angle(z))>=np.pi/4))\n",
    "plt.plot(x[L],y[L],'.r')\n",
    "plt.axis('equal')\n",
    "plt.grid(True)\n",
    "plt.axhline(y=0, color='k')\n",
    "plt.axvline(x=0, color='k')\n",
    "plt.title('$ 2 \\geq  | z - 1 | ; |Arg(z)| \\geq pi/4 $')\n",
    "plt.xlabel('Re(z)')\n",
    "plt.ylabel('Im(z)')\n",
    "plt.show()"
   ]
  },
  {
   "cell_type": "code",
   "execution_count": null,
   "id": "1a6d4cdf-c6bf-4bbd-86d3-951652efc537",
   "metadata": {},
   "outputs": [],
   "source": []
  }
 ],
 "metadata": {
  "kernelspec": {
   "display_name": "Python 3 (ipykernel)",
   "language": "python",
   "name": "python3"
  },
  "language_info": {
   "codemirror_mode": {
    "name": "ipython",
    "version": 3
   },
   "file_extension": ".py",
   "mimetype": "text/x-python",
   "name": "python",
   "nbconvert_exporter": "python",
   "pygments_lexer": "ipython3",
   "version": "3.11.5"
  }
 },
 "nbformat": 4,
 "nbformat_minor": 5
}
