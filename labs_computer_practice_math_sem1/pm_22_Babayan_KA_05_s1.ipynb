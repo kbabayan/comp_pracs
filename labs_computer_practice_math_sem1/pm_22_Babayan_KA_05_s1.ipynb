{
 "cells": [
  {
   "cell_type": "markdown",
   "id": "23a472a3-e8d9-41f0-970d-d8fcc914e2bd",
   "metadata": {},
   "source": [
    "Лабораторная работа номер 5"
   ]
  },
  {
   "cell_type": "markdown",
   "id": "90bf8083-6831-4bfc-97b0-2f2ef4cd65e2",
   "metadata": {},
   "source": [
    "Упражнение 1"
   ]
  },
  {
   "cell_type": "code",
   "execution_count": 18,
   "id": "a0ecb040-36f6-44f4-b1f1-c7f9385cc717",
   "metadata": {
    "tags": []
   },
   "outputs": [
    {
     "name": "stdout",
     "output_type": "stream",
     "text": [
      "[False  True False  True False  True False  True False  True]\n"
     ]
    }
   ],
   "source": [
    "import sympy as sp\n",
    "from sympy.abc import *\n",
    "import numpy as np\n",
    "mas_sympy=[]\n",
    "mas_numpy=[]\n",
    "\n",
    "Pi = sp.pi\n",
    "\n",
    "mas_sympy=[sp.cos((k*Pi)/2) for k in range(1,10+1)]\n",
    "mas_numpy=[sp.cos((k*np.pi)/2) for k in range(1,10+1)]\n",
    "\n",
    "print(np.equal(mas_sympy,mas_numpy))\n",
    "#Результат получился таким, потому что np.pi обладает погрешностью представления числа Pi, а sp.pi - нет"
   ]
  },
  {
   "cell_type": "markdown",
   "id": "990224c7-5db4-4d1d-95b5-c538e6e6d7f3",
   "metadata": {},
   "source": [
    "Упражнение 2"
   ]
  },
  {
   "cell_type": "code",
   "execution_count": null,
   "id": "9653e992-eeb4-47aa-afc6-2803539db718",
   "metadata": {},
   "outputs": [],
   "source": []
  },
  {
   "cell_type": "markdown",
   "id": "f8d4fde2-6f63-491c-a2f5-fa6c5fd37f9a",
   "metadata": {},
   "source": [
    "Упражнение 3"
   ]
  },
  {
   "cell_type": "code",
   "execution_count": 10,
   "id": "80f05bf3-d387-4b0d-b5be-0da1850684e8",
   "metadata": {
    "tags": []
   },
   "outputs": [
    {
     "name": "stdout",
     "output_type": "stream",
     "text": [
      "сократить нельзя,  (x**7 + 3*x**2 - 4)/(x - 1)\n",
      "\n",
      "сократить нельзя,  (x**2)**0.5/x\n"
     ]
    }
   ],
   "source": [
    "n = (x**7+3*x**2-4)/(x-1)\n",
    "n_fac = sp.simplify(mas)\n",
    "if n_fac == mas:\n",
    "    print('сократить нельзя, ', n_fac)\n",
    "else: print(n_fac)\n",
    "\n",
    "print()\n",
    "\n",
    "n1 = ((x**2)**(1/2))/x\n",
    "n1_fac = sp.simplify(n1)\n",
    "if n1_fac == n1:\n",
    "    print('сократить нельзя, ', n1_fac)\n",
    "else: print(n1_fac)"
   ]
  },
  {
   "cell_type": "code",
   "execution_count": 11,
   "id": "4ebb3733-95d0-4125-8034-5a348bb81485",
   "metadata": {
    "tags": []
   },
   "outputs": [
    {
     "name": "stdout",
     "output_type": "stream",
     "text": [
      " 7      2    \n",
      "x  + 3⋅x  - 4\n",
      "─────────────\n",
      "    x - 1    \n",
      "\n",
      " after factor = x**6 + x**5 + x**4 + x**3 + x**2 + 4*x + 4\n"
     ]
    }
   ],
   "source": [
    "import sympy as sp\n",
    "from sympy.abc import x,y\n",
    "n2 = (x**7+3*x**2-4)/(x-1)\n",
    "sp.pprint(n2)\n",
    "n2=sp.factor(n2)\n",
    "print('\\n after factor = '+str(sp.simplify(n2)))"
   ]
  },
  {
   "cell_type": "markdown",
   "id": "9a4b06d6-4f53-43e0-8556-170b89efb7c9",
   "metadata": {},
   "source": [
    "Упражнение 4"
   ]
  },
  {
   "cell_type": "code",
   "execution_count": 12,
   "id": "d55d1bfb-ce6d-4386-b4fa-1259d63522f5",
   "metadata": {},
   "outputs": [
    {
     "name": "stdout",
     "output_type": "stream",
     "text": [
      "\n",
      " a) (x**2 - 2*x + 2)*(x**2 + 2*x + 2) \n",
      " b) (x + 1)*(x**6 - x**5 + x**4 - x**3 + x**2 - x + 1) \n",
      " c) (x - y)*(x + 2*y)*(2*x - y)\n"
     ]
    }
   ],
   "source": [
    "a=sp.factor(x**4+4)\n",
    "b=sp.factor(x**7+1)\n",
    "c=sp.factor(2*x**3+x**2*y-5*x*y**2+2*y**3)\n",
    "print('\\n a)',a,'\\n b)',b,'\\n c)',c)"
   ]
  },
  {
   "cell_type": "markdown",
   "id": "2c77bd6d-c84f-4430-acb3-2ea3686fbdda",
   "metadata": {},
   "source": [
    "Упражнение 5"
   ]
  },
  {
   "cell_type": "code",
   "execution_count": 13,
   "id": "f8deafa4-6259-4ec0-87e0-3ac6a4982c37",
   "metadata": {
    "tags": []
   },
   "outputs": [
    {
     "name": "stdout",
     "output_type": "stream",
     "text": [
      "(0.81773, ∞)\n"
     ]
    }
   ],
   "source": [
    "a=sp.solve_univariate_inequality(x**3+3*x>3,x,relational=False)\n",
    "sp.pprint(sp.N(a,5))"
   ]
  },
  {
   "cell_type": "markdown",
   "id": "2e11e132-2d65-49e4-84b9-f1051931756a",
   "metadata": {},
   "source": [
    "Упражнение 6"
   ]
  },
  {
   "cell_type": "code",
   "execution_count": 22,
   "id": "e64cbffd-0def-4edd-9349-ebaee269b30d",
   "metadata": {
    "tags": []
   },
   "outputs": [
    {
     "name": "stdout",
     "output_type": "stream",
     "text": [
      "(7.46321168040309, ∞)\n",
      "(0.244853202936456, 0.255166138055011) ∪ (9.8699750168999, ∞)\n",
      "(22.8233947035835, ∞)\n",
      "(0.249484471462411, 0.25051572189747) ∪ (31.4967745121422, ∞)\n",
      "|           |   A |   B |\n",
      "|-----------|-----|-----|\n",
      "| n0(0.01)  |   8 |  10 |\n",
      "| n0(0.001) |  23 |  32 |\n"
     ]
    },
    {
     "data": {
      "image/png": "[encoded data removed]",
      "text/plain": [
       "<Figure size 640x480 with 2 Axes>"
      ]
     },
     "metadata": {},
     "output_type": "display_data"
    }
   ],
   "source": [
    "from tabulate import tabulate\n",
    "from sympy.abc import x,y,n\n",
    "import matplotlib.pyplot as plt\n",
    "\n",
    "a1 = sp.limit((n**3 - 1)/(2*n**3 + 2*n),n,sp.oo)\n",
    "\n",
    "a2 = sp.limit((n**3 + 2*n)/(2*n**3 +1),n,sp.oo)\n",
    "\n",
    "n0 = 0.01\n",
    "k1 = sp.solve_univariate_inequality(sp.Abs((n**3 - 1)/(2*n**3 + 2*n) - a1) < n0,n ,relational = False)\n",
    "\n",
    "k2 = sp.solve_univariate_inequality(sp.Abs((n**3 + 2*n)/(2*n**3 +1)- a2) < n0,n, relational = False)\n",
    "b = sp.solve_univariate_inequality(n>0,n,relational=False)\n",
    "\n",
    "a=sp.Intersection(k1,b)\n",
    "sp.pprint(a)\n",
    "a=sp.Intersection(k2,b)\n",
    "sp.pprint(a)\n",
    "\n",
    "n0 = 0.001\n",
    "k1 = sp.solve_univariate_inequality(sp.Abs((n**3 - 1)/(2*n**3 + 2*n) - a1) < n0,n ,relational = False)\n",
    "\n",
    "k2 = sp.solve_univariate_inequality(sp.Abs((n**3 + 2*n)/(2*n**3 +1)- a2) < n0,n, relational = False)\n",
    "b = sp.solve_univariate_inequality(n>0,n,relational=False)\n",
    "\n",
    "a=sp.Intersection(k1,b)\n",
    "sp.pprint(a)\n",
    "a=sp.Intersection(k2,b)\n",
    "sp.pprint(a)\n",
    "head = (\"\",\"A\",\"B\")\n",
    "\n",
    "data = [[\"n0(0.01)\",\"8\",\"10\"],\n",
    "[\"n0(0.001)\",\"23\",\"32\"]]\n",
    "\n",
    "print(tabulate(data, headers=head, tablefmt=\"github\"))\n",
    "\n",
    "x = np.linspace(-2,10,100)\n",
    "\n",
    "plt.subplot(2,1,1)\n",
    "n0 = 0.01\n",
    "plt.plot (x, (x**3-1)/ (2*x**3 + 2*x), 'k')\n",
    "\n",
    "plt.subplot(2,1,2)\n",
    "plt.plot (x, (x**3 + 2*x)/(2*x**4 +1),'m')\n",
    "plt.show()"
   ]
  },
  {
   "cell_type": "markdown",
   "id": "8c5b3ca0-9838-4d3e-b642-f0e574411ff0",
   "metadata": {},
   "source": [
    "С1"
   ]
  },
  {
   "cell_type": "code",
   "execution_count": 23,
   "id": "73995beb-2676-4daf-9909-42b58ea726f0",
   "metadata": {
    "tags": []
   },
   "outputs": [
    {
     "data": {
      "text/latex": [
       "$\\displaystyle \\left(-1.879, 0.3473\\right) \\cup \\left(1.532, \\infty\\right)$"
      ],
      "text/plain": [
       "Union(Interval.open(-1.879, 0.3473), Interval.open(1.532, oo))"
      ]
     },
     "execution_count": 23,
     "metadata": {},
     "output_type": "execute_result"
    }
   ],
   "source": [
    "import sympy as sp\n",
    "from sympy.abc import x\n",
    "a=sp.solve_univariate_inequality(x**3-3.0*x>-1,x,relational=False)\n",
    "sp.N(a,4)"
   ]
  },
  {
   "cell_type": "markdown",
   "id": "1648f787-eb8e-4c44-8709-398cc737c006",
   "metadata": {},
   "source": [
    "С3"
   ]
  },
  {
   "cell_type": "code",
   "execution_count": 25,
   "id": "f03d38ea-e089-42ba-b91a-8d0631a76eae",
   "metadata": {
    "tags": []
   },
   "outputs": [
    {
     "name": "stdout",
     "output_type": "stream",
     "text": [
      "a1: 2 \n",
      "a2: sqrt(2) \n",
      "a3: oo\n"
     ]
    }
   ],
   "source": [
    "a1=sp.limit((2*n**5+2*n**4+3)/(n**5-5*n-10000),n,sp.oo)\n",
    "a2=sp.limit((2*n**5+3)**0.5/(n**5-5)**0.5,n,sp.oo)\n",
    "a3=sp.limit((n**3+n**2)**1/3-(n**3-n**2)**1/3,n,sp.oo)\n",
    "print('a1:',a1,'\\na2:',a2,'\\na3:',a3)"
   ]
  },
  {
   "cell_type": "code",
   "execution_count": 27,
   "id": "1dd62818-f235-4d90-bb8b-bc58db729dfa",
   "metadata": {
    "tags": []
   },
   "outputs": [
    {
     "name": "stdout",
     "output_type": "stream",
     "text": [
      "(200.001382025172, ∞)\n",
      "⎛       5 __________________          ⎞\n",
      "⎜       ╲╱ 0.1⋅√2 + 13.0005           ⎟\n",
      "⎜──────────────────────────────────, ∞⎟\n",
      "⎜5 ________________________________   ⎟\n",
      "⎝╲╱ 0.000100000000000211 + 0.02⋅√2    ⎠\n",
      "∅\n",
      "\n",
      "\n",
      "(2000.00000250166, ∞)\n",
      "⎛     5 _____________________         ⎞\n",
      "⎜     ╲╱ 0.01⋅√2 + 13.000005          ⎟\n",
      "⎜──────────────────────────────────, ∞⎟\n",
      "⎜5 ________________________________   ⎟\n",
      "⎝╲╱ 1.00000000013978e-6 + 0.002⋅√2    ⎠\n",
      "∅\n",
      "\n",
      "\n",
      "|           |   a) |   б) |   в) |\n",
      "|:----------|-----:|-----:|-----:|\n",
      "| n0(0,01)  |  200 |    3 |    0 |\n",
      "| n0(0,001) | 2000 |   -2 |    0 |\n"
     ]
    },
    {
     "name": "stderr",
     "output_type": "stream",
     "text": [
      "/var/folders/vg/3jvn98nn3x51vfg9mn0txj600000gn/T/ipykernel_8698/2818317374.py:26: RuntimeWarning: invalid value encountered in sqrt\n",
      "  plt.plot(x,((2*x**5+3)**0.5)/((x**5-5)**0.5),'y')\n"
     ]
    },
    {
     "data": {
      "text/plain": [
       "[<matplotlib.lines.Line2D at 0x124125b50>]"
      ]
     },
     "execution_count": 27,
     "metadata": {},
     "output_type": "execute_result"
    },
    {
     "data": {
      "image/png": "[encoded data removed]",
      "text/plain": [
       "<Figure size 640x480 with 3 Axes>"
      ]
     },
     "metadata": {},
     "output_type": "display_data"
    }
   ],
   "source": [
    "n0=[0.01,0.001]\n",
    "head=['','a)','б)','в)']\n",
    "zagls=['n0(0,01)','n0(0,001)']\n",
    "\n",
    "for n0 in n0:\n",
    "    k1=sp.solve_univariate_inequality(sp.Abs((2*n**5+2*n**4+3)/(n**5-5*n-10000)-a1) < n0,n,relational=False)\n",
    "    k2=sp.solve_univariate_inequality(sp.Abs(sp.sqrt(2*n**5+3)/sp.sqrt(n**5-5)-a2) < n0,n,relational=False)\n",
    "    k3=sp.solve_univariate_inequality(sp.Abs((n**3+n**2)**1/3-(n**3-n**2)**1/3-a3) < n0,n,relational=False)\n",
    "    b = sp.solve_univariate_inequality(n>0,n,relational=False)\n",
    "    sp.pprint(sp.Intersection(k1,b))\n",
    "    sp.pprint(sp.Intersection(k2,b))\n",
    "    sp.pprint(sp.Intersection(k3,b))\n",
    "    print('\\n')\n",
    "mas_data=[['n0(0,01)',200,3,0 ],['n0(0,001)',2000,-2,0]]\n",
    "print(tabulate(mas_data,headers=head,tablefmt='pipe'))\n",
    "\n",
    "\n",
    "a=1/2  #посчитал логарифмы пунктов а) и б)\n",
    "b=0\n",
    "x=np.linspace(-2,2,100)\n",
    "\n",
    "plt.subplot(3,1,1)\n",
    "plt.plot(x,(2*x**5+2*x**4+3)/(x**5-5*x-10000),'r')\n",
    "\n",
    "plt.subplot(3,1,2)\n",
    "plt.plot(x,((2*x**5+3)**0.5)/((x**5-5)**0.5),'y')\n",
    "\n",
    "plt.subplot(3,1,3)\n",
    "plt.plot(x,(x**3+x**2)**1/3-(x**3-x**2)**1/3,'y')"
   ]
  },
  {
   "cell_type": "code",
   "execution_count": null,
   "id": "0be04ea4-cdeb-4928-b1a8-f0cb76076b0d",
   "metadata": {},
   "outputs": [],
   "source": []
  }
 ],
 "metadata": {
  "kernelspec": {
   "display_name": "Python 3 (ipykernel)",
   "language": "python",
   "name": "python3"
  },
  "language_info": {
   "codemirror_mode": {
    "name": "ipython",
    "version": 3
   },
   "file_extension": ".py",
   "mimetype": "text/x-python",
   "name": "python",
   "nbconvert_exporter": "python",
   "pygments_lexer": "ipython3",
   "version": "3.11.5"
  }
 },
 "nbformat": 4,
 "nbformat_minor": 5
}
