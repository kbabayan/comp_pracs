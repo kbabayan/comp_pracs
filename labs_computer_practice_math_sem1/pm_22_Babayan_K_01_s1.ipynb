{
 "cells": [
  {
   "cell_type": "markdown",
   "id": "f25fb60d-da7b-4bd2-a5b6-34027fc693ec",
   "metadata": {},
   "source": [
    "Лабораторная работа номер 1"
   ]
  },
  {
   "cell_type": "code",
   "execution_count": null,
   "id": "a3a287ca-4784-4c42-a746-ef8fe5acbe26",
   "metadata": {},
   "outputs": [],
   "source": [
    "Упражнение 1"
   ]
  },
  {
   "cell_type": "code",
   "execution_count": 1,
   "id": "feefba91-88f4-418e-8df0-4b35b80057fb",
   "metadata": {
    "tags": []
   },
   "outputs": [
    {
     "data": {
      "text/plain": [
       "6"
      ]
     },
     "execution_count": 1,
     "metadata": {},
     "output_type": "execute_result"
    }
   ],
   "source": [
    "2*3"
   ]
  },
  {
   "cell_type": "code",
   "execution_count": 2,
   "id": "af75087c-fbaf-4baa-bc9b-b8705d104cff",
   "metadata": {
    "tags": []
   },
   "outputs": [
    {
     "name": "stdout",
     "output_type": "stream",
     "text": [
      "7\n"
     ]
    }
   ],
   "source": [
    "k = 3 + 4\n",
    "print(k)"
   ]
  },
  {
   "cell_type": "code",
   "execution_count": 3,
   "id": "5060880a-66c6-4027-9d7d-962abc8af5f0",
   "metadata": {
    "tags": []
   },
   "outputs": [
    {
     "data": {
      "text/plain": [
       "48"
      ]
     },
     "execution_count": 3,
     "metadata": {},
     "output_type": "execute_result"
    }
   ],
   "source": [
    "(k+1)*(k-1)"
   ]
  },
  {
   "cell_type": "code",
   "execution_count": 4,
   "id": "b953914a-99c5-49ee-8d1d-5be52185c78c",
   "metadata": {
    "tags": []
   },
   "outputs": [
    {
     "ename": "NameError",
     "evalue": "name 'x' is not defined",
     "output_type": "error",
     "traceback": [
      "\u001b[0;31m---------------------------------------------------------------------------\u001b[0m",
      "\u001b[0;31mNameError\u001b[0m                                 Traceback (most recent call last)",
      "Cell \u001b[0;32mIn[4], line 1\u001b[0m\n\u001b[0;32m----> 1\u001b[0m (x\u001b[38;5;241m+\u001b[39m\u001b[38;5;241m1\u001b[39m)\u001b[38;5;241m*\u001b[39m(x\u001b[38;5;241m-\u001b[39m\u001b[38;5;241m1\u001b[39m)\n",
      "\u001b[0;31mNameError\u001b[0m: name 'x' is not defined"
     ]
    }
   ],
   "source": [
    "(x+1)*(x-1)"
   ]
  },
  {
   "cell_type": "code",
   "execution_count": null,
   "id": "6f3b8db3-4d64-4b92-84a1-a9d8073577dc",
   "metadata": {},
   "outputs": [],
   "source": [
    "h=(k+2)*3+\\\n",
    "3+(k+7)\n",
    "print(h)"
   ]
  },
  {
   "cell_type": "markdown",
   "id": "0ab387a9-62e8-41e1-87ae-58a2894923cc",
   "metadata": {},
   "source": [
    "Упражение 3"
   ]
  },
  {
   "cell_type": "code",
   "execution_count": 6,
   "id": "bba498d8-4a84-466f-8470-d009f2e310f6",
   "metadata": {
    "tags": []
   },
   "outputs": [
    {
     "name": "stdout",
     "output_type": "stream",
     "text": [
      "Variable   Type    Data/Info\n",
      "----------------------------\n",
      "a          int     -1\n",
      "b          int     3\n",
      "c          int     2\n",
      "k          int     7\n"
     ]
    }
   ],
   "source": [
    "%whos"
   ]
  },
  {
   "cell_type": "markdown",
   "id": "85545299-8f52-47f1-89be-2d37d9b940e1",
   "metadata": {},
   "source": [
    "$\\begin{bmatrix} 1 & 2 & 1 \\\\ 3 & 0 & 1 \\\\ 0 & 2 & 4 \\end{bmatrix}$"
   ]
  },
  {
   "cell_type": "code",
   "execution_count": 7,
   "id": "cb9cd5b0-1baf-4ea4-8172-eb414411410c",
   "metadata": {
    "tags": []
   },
   "outputs": [
    {
     "name": "stdin",
     "output_type": "stream",
     "text": [
      "Once deleted, variables cannot be recovered. Proceed (y/[n])?  н\n",
      "Once deleted, variables cannot be recovered. Proceed (y/[n])?  y\n"
     ]
    }
   ],
   "source": [
    "%reset"
   ]
  },
  {
   "cell_type": "code",
   "execution_count": 8,
   "id": "e1226697-784f-4f35-8b8a-e990380e2c7e",
   "metadata": {
    "tags": []
   },
   "outputs": [],
   "source": [
    "x, y, z, t = 1, 2, 3, 4"
   ]
  },
  {
   "cell_type": "code",
   "execution_count": 9,
   "id": "642501c4-7dab-47c0-81e9-f0819f818986",
   "metadata": {
    "tags": []
   },
   "outputs": [
    {
     "name": "stdout",
     "output_type": "stream",
     "text": [
      "Variable   Type    Data/Info\n",
      "----------------------------\n",
      "t          int     4\n",
      "x          int     1\n",
      "y          int     2\n",
      "z          int     3\n"
     ]
    }
   ],
   "source": [
    "%whos"
   ]
  },
  {
   "cell_type": "markdown",
   "id": "4f97263d-afce-42f2-82de-00e3aa24ac8f",
   "metadata": {},
   "source": [
    "$\\begin{bmatrix} 1 & 2 & 1 \\\\ 3 & 0 & 1 \\\\ 0 & 2 & 4 \\end{bmatrix}$"
   ]
  },
  {
   "cell_type": "code",
   "execution_count": 10,
   "id": "b454fc81-5cb6-4406-b3d1-c40b9473f733",
   "metadata": {
    "tags": []
   },
   "outputs": [],
   "source": [
    "del(x)"
   ]
  },
  {
   "cell_type": "code",
   "execution_count": 21,
   "id": "61e1382f-300d-473d-ba7c-6ebc440fcfeb",
   "metadata": {
    "tags": []
   },
   "outputs": [
    {
     "name": "stdout",
     "output_type": "stream",
     "text": [
      "Variable   Type       Data/Info\n",
      "-------------------------------\n",
      "A          ndarray    4: 4 elems, type `int64`, 32 bytes\n",
      "B          ndarray    2x6: 12 elems, type `int64`, 96 bytes\n",
      "R          ndarray    4x3: 12 elems, type `int64`, 96 bytes\n",
      "S          ndarray    3: 3 elems, type `float64`, 24 bytes\n",
      "np         module     <module 'numpy' from '/Us<...>kages/numpy/__init__.py'>\n",
      "t          int        4\n",
      "v          ndarray    4: 4 elems, type `int64`, 32 bytes\n",
      "y          int        2\n",
      "z          int        3\n"
     ]
    }
   ],
   "source": [
    "%whos"
   ]
  },
  {
   "cell_type": "code",
   "execution_count": null,
   "id": "818d35df-2f83-4d87-8bf8-3f7f9bc242f7",
   "metadata": {},
   "outputs": [],
   "source": []
  },
  {
   "cell_type": "code",
   "execution_count": 2,
   "id": "3c1a5512-8b4f-45d6-8974-f04c1629dc79",
   "metadata": {
    "tags": []
   },
   "outputs": [
    {
     "name": "stdout",
     "output_type": "stream",
     "text": [
      "[ 1  3 -1]\n"
     ]
    }
   ],
   "source": [
    "import numpy as np\n",
    "\n",
    "B = np.array([1, 3, -1])\n",
    "print(B)"
   ]
  },
  {
   "cell_type": "code",
   "execution_count": 14,
   "id": "bbc85379-1b4e-4eb9-993f-4705e89d5ee3",
   "metadata": {
    "tags": []
   },
   "outputs": [
    {
     "name": "stdout",
     "output_type": "stream",
     "text": [
      "[[1 2 3 4]\n",
      " [0 1 3 2]]\n"
     ]
    }
   ],
   "source": [
    "A = np.array( [ [1, 2, 3, 4], [0, 1, 3, 2] ] )\n",
    "print(A)"
   ]
  },
  {
   "cell_type": "code",
   "execution_count": 15,
   "id": "9f224831-2202-4fd5-8e1e-7a6b4038dadf",
   "metadata": {
    "tags": []
   },
   "outputs": [
    {
     "name": "stdout",
     "output_type": "stream",
     "text": [
      "[1 3 5 7]\n"
     ]
    }
   ],
   "source": [
    "v = np.arange(1,8,2)\n",
    "print (v)"
   ]
  },
  {
   "cell_type": "code",
   "execution_count": 18,
   "id": "ae8575bf-9a6d-4f6b-bb02-98bed59485c7",
   "metadata": {
    "tags": []
   },
   "outputs": [
    {
     "name": "stdout",
     "output_type": "stream",
     "text": [
      "A = [0 1 2 3]\n",
      "B = [[ 0  1  2  3  4  5]\n",
      " [ 6  7  8  9 10 11]]\n"
     ]
    }
   ],
   "source": [
    "A = np.arange(4)\n",
    "print('A =', A)\n",
    "\n",
    "B = np.arange(12).reshape(2, 6)\n",
    "print('B =', B)"
   ]
  },
  {
   "cell_type": "code",
   "execution_count": 19,
   "id": "1748bd65-f40c-4969-9c08-0546d7b3f52a",
   "metadata": {
    "tags": []
   },
   "outputs": [
    {
     "name": "stdout",
     "output_type": "stream",
     "text": [
      "[-1.          1.41421356  3.        ]\n"
     ]
    }
   ],
   "source": [
    "S = np.array([-1, np.sqrt(2), np.abs(-3)])\n",
    "print (S)"
   ]
  },
  {
   "cell_type": "markdown",
   "id": "90a38e7e-6d4e-4b68-a453-561b36ae83da",
   "metadata": {},
   "source": [
    "Упражнение 4"
   ]
  },
  {
   "cell_type": "code",
   "execution_count": 9,
   "id": "008ccf00-140d-4030-87d0-28271744fb6b",
   "metadata": {
    "tags": []
   },
   "outputs": [],
   "source": [
    "R = np.array([[1, 2, 3],\n",
    "             [4, 5, 6],\n",
    "             [7, 8, 9],\n",
    "             [10, 11, 12]])"
   ]
  },
  {
   "cell_type": "markdown",
   "id": "12c39b0b-4b11-4143-8c80-68d8a67fa92d",
   "metadata": {},
   "source": [
    "$\\begin{bmatrix} 1 & 2 & 3 \\\\ 4 & 5 & 6 \\\\ 7 & 8 & 9 \\\\ 10 & 11 & 12 \\end{bmatrix}$"
   ]
  },
  {
   "cell_type": "code",
   "execution_count": 10,
   "id": "d23ac197-7fdc-4b8e-a69c-5837924521e4",
   "metadata": {},
   "outputs": [
    {
     "name": "stdout",
     "output_type": "stream",
     "text": [
      "[[ 1  2  3]\n",
      " [ 4  5  6]\n",
      " [ 7  8  9]\n",
      " [10 11 12]]\n"
     ]
    }
   ],
   "source": [
    "print(R)"
   ]
  },
  {
   "cell_type": "code",
   "execution_count": 11,
   "id": "90f4bd99-49a1-4be8-94f6-e5175fb43579",
   "metadata": {
    "tags": []
   },
   "outputs": [
    {
     "name": "stdout",
     "output_type": "stream",
     "text": [
      "[[ 1  2  3]\n",
      " [ 4  5 -6]\n",
      " [ 7  8  9]\n",
      " [10 11 12]]\n"
     ]
    }
   ],
   "source": [
    "R[1][2] = - R[1][2]\n",
    "print(R)"
   ]
  },
  {
   "cell_type": "code",
   "execution_count": 12,
   "id": "11c71adb-4165-4803-b9bc-75f82a9576b4",
   "metadata": {
    "tags": []
   },
   "outputs": [
    {
     "name": "stdout",
     "output_type": "stream",
     "text": [
      "[[ 1  2 -1]\n",
      " [ 4  5 -6]\n",
      " [ 7  8  9]\n",
      " [10 11 12]]\n"
     ]
    }
   ],
   "source": [
    "R[0][2] -= 4\n",
    "print(R)"
   ]
  },
  {
   "cell_type": "code",
   "execution_count": 14,
   "id": "860f17d4-44c8-4990-bf2b-254ee2a5690d",
   "metadata": {
    "tags": []
   },
   "outputs": [
    {
     "name": "stdout",
     "output_type": "stream",
     "text": [
      "[[  2   4  -2]\n",
      " [  8  10 -12]\n",
      " [ 14  16  18]\n",
      " [ 20  22  24]]\n"
     ]
    }
   ],
   "source": [
    "R[:,1] *= 2\n",
    "print(R)"
   ]
  },
  {
   "cell_type": "code",
   "execution_count": 15,
   "id": "26083578-b1cd-448e-96ef-580847436495",
   "metadata": {
    "tags": []
   },
   "outputs": [],
   "source": [
    "R[0,:] *= 2"
   ]
  },
  {
   "cell_type": "code",
   "execution_count": 16,
   "id": "bc412e95-c163-443b-98f6-0782b1da7789",
   "metadata": {
    "tags": []
   },
   "outputs": [
    {
     "name": "stdout",
     "output_type": "stream",
     "text": [
      "[[  4   8  -4]\n",
      " [  8  10 -12]\n",
      " [ 14  16  18]\n",
      " [ 20  22  24]]\n"
     ]
    }
   ],
   "source": [
    "print(R)"
   ]
  },
  {
   "cell_type": "code",
   "execution_count": 19,
   "id": "36a77ec8-f0f3-4b79-b7f8-bf615bf03616",
   "metadata": {
    "tags": []
   },
   "outputs": [
    {
     "name": "stdout",
     "output_type": "stream",
     "text": [
      "[1 2 3 4 5]\n",
      "[1 2 3 4 5 6 7]\n",
      "[1 2] [1 2 3 4] [1 2 3]\n"
     ]
    }
   ],
   "source": [
    "a = np.array([1, 2, 3, 4, 5])\n",
    "print(a)\n",
    "\n",
    "b = np.array([1, 2, 3, 4, 5, 6, 7])\n",
    "print(b)\n",
    "\n",
    "c = np.array([1, 2])\n",
    "d = np.array([1, 2, 3, 4])\n",
    "e = np.array([1, 2, 3])\n",
    "print(c, d, e)"
   ]
  },
  {
   "cell_type": "code",
   "execution_count": 38,
   "id": "294c2136-446b-460a-a11c-16ea0b44f99f",
   "metadata": {
    "tags": []
   },
   "outputs": [],
   "source": [
    "from numpy import matlib\n",
    "\n",
    "A = matlib.matrix('1, 2, 3; 4, 5, 6')\n",
    "B = matlib.matrix('1, -2, 1; -2, 3, 4')\n",
    "c = matlib.matrix('2')\n",
    "D = matlib.ones((2, 3))\n",
    "E = matlib.eye(3, 3)"
   ]
  },
  {
   "cell_type": "code",
   "execution_count": 23,
   "id": "1e60d5d4-e1b6-4204-9bd6-efd1eef591d0",
   "metadata": {
    "tags": []
   },
   "outputs": [
    {
     "name": "stdout",
     "output_type": "stream",
     "text": [
      "[[ 2  0  4]\n",
      " [ 2  8 10]]\n"
     ]
    }
   ],
   "source": [
    "print(A+B)"
   ]
  },
  {
   "cell_type": "code",
   "execution_count": 24,
   "id": "86669e11-64fd-45a0-a85e-91f7f6035be8",
   "metadata": {
    "tags": []
   },
   "outputs": [
    {
     "name": "stdout",
     "output_type": "stream",
     "text": [
      "[[3 4 5]\n",
      " [6 7 8]]\n"
     ]
    }
   ],
   "source": [
    "print(A+c)"
   ]
  },
  {
   "cell_type": "code",
   "execution_count": 25,
   "id": "6d2775f3-adf6-42e6-b84e-1630ed0445fc",
   "metadata": {
    "tags": []
   },
   "outputs": [
    {
     "ename": "ValueError",
     "evalue": "operands could not be broadcast together with shapes (2,3) (3,3) ",
     "output_type": "error",
     "traceback": [
      "\u001b[0;31m---------------------------------------------------------------------------\u001b[0m",
      "\u001b[0;31mValueError\u001b[0m                                Traceback (most recent call last)",
      "Cell \u001b[0;32mIn[25], line 1\u001b[0m\n\u001b[0;32m----> 1\u001b[0m \u001b[38;5;28mprint\u001b[39m(A\u001b[38;5;241m+\u001b[39mE)\n",
      "\u001b[0;31mValueError\u001b[0m: operands could not be broadcast together with shapes (2,3) (3,3) "
     ]
    }
   ],
   "source": [
    "print(A+E)"
   ]
  },
  {
   "cell_type": "code",
   "execution_count": 26,
   "id": "b8a48ce9-5abe-4beb-af47-adcc1f1a1c29",
   "metadata": {
    "tags": []
   },
   "outputs": [
    {
     "name": "stdout",
     "output_type": "stream",
     "text": [
      "[[0 4 2]\n",
      " [6 2 2]]\n"
     ]
    }
   ],
   "source": [
    "print(A-B)"
   ]
  },
  {
   "cell_type": "code",
   "execution_count": 27,
   "id": "cb3bc2d8-c3a2-4854-9a13-e22512fea621",
   "metadata": {
    "tags": []
   },
   "outputs": [
    {
     "name": "stdout",
     "output_type": "stream",
     "text": [
      "[[-1  0  1]\n",
      " [ 2  3  4]]\n"
     ]
    }
   ],
   "source": [
    "print(A-c)"
   ]
  },
  {
   "cell_type": "code",
   "execution_count": 28,
   "id": "cc17bf1d-ff5d-4af5-8d8c-118c25a32967",
   "metadata": {
    "tags": []
   },
   "outputs": [
    {
     "ename": "ValueError",
     "evalue": "shapes (1,1) and (2,3) not aligned: 1 (dim 1) != 2 (dim 0)",
     "output_type": "error",
     "traceback": [
      "\u001b[0;31m---------------------------------------------------------------------------\u001b[0m",
      "\u001b[0;31mValueError\u001b[0m                                Traceback (most recent call last)",
      "Cell \u001b[0;32mIn[28], line 1\u001b[0m\n\u001b[0;32m----> 1\u001b[0m \u001b[38;5;28mprint\u001b[39m(c\u001b[38;5;241m*\u001b[39mA)\n",
      "File \u001b[0;32m~/anaconda3/lib/python3.11/site-packages/numpy/matrixlib/defmatrix.py:218\u001b[0m, in \u001b[0;36mmatrix.__mul__\u001b[0;34m(self, other)\u001b[0m\n\u001b[1;32m    215\u001b[0m \u001b[38;5;28;01mdef\u001b[39;00m \u001b[38;5;21m__mul__\u001b[39m(\u001b[38;5;28mself\u001b[39m, other):\n\u001b[1;32m    216\u001b[0m     \u001b[38;5;28;01mif\u001b[39;00m \u001b[38;5;28misinstance\u001b[39m(other, (N\u001b[38;5;241m.\u001b[39mndarray, \u001b[38;5;28mlist\u001b[39m, \u001b[38;5;28mtuple\u001b[39m)) :\n\u001b[1;32m    217\u001b[0m         \u001b[38;5;66;03m# This promotes 1-D vectors to row vectors\u001b[39;00m\n\u001b[0;32m--> 218\u001b[0m         \u001b[38;5;28;01mreturn\u001b[39;00m N\u001b[38;5;241m.\u001b[39mdot(\u001b[38;5;28mself\u001b[39m, asmatrix(other))\n\u001b[1;32m    219\u001b[0m     \u001b[38;5;28;01mif\u001b[39;00m isscalar(other) \u001b[38;5;129;01mor\u001b[39;00m \u001b[38;5;129;01mnot\u001b[39;00m \u001b[38;5;28mhasattr\u001b[39m(other, \u001b[38;5;124m'\u001b[39m\u001b[38;5;124m__rmul__\u001b[39m\u001b[38;5;124m'\u001b[39m) :\n\u001b[1;32m    220\u001b[0m         \u001b[38;5;28;01mreturn\u001b[39;00m N\u001b[38;5;241m.\u001b[39mdot(\u001b[38;5;28mself\u001b[39m, other)\n",
      "File \u001b[0;32m<__array_function__ internals>:200\u001b[0m, in \u001b[0;36mdot\u001b[0;34m(*args, **kwargs)\u001b[0m\n",
      "\u001b[0;31mValueError\u001b[0m: shapes (1,1) and (2,3) not aligned: 1 (dim 1) != 2 (dim 0)"
     ]
    }
   ],
   "source": [
    "print(c*A)"
   ]
  },
  {
   "cell_type": "code",
   "execution_count": 30,
   "id": "3583f249-70f5-4115-ba99-84a1a5ab93a2",
   "metadata": {
    "tags": []
   },
   "outputs": [
    {
     "ename": "ValueError",
     "evalue": "matmul: Input operand 1 has a mismatch in its core dimension 0, with gufunc signature (n?,k),(k,m?)->(n?,m?) (size 2 is different from 3)",
     "output_type": "error",
     "traceback": [
      "\u001b[0;31m---------------------------------------------------------------------------\u001b[0m",
      "\u001b[0;31mValueError\u001b[0m                                Traceback (most recent call last)",
      "Cell \u001b[0;32mIn[30], line 1\u001b[0m\n\u001b[0;32m----> 1\u001b[0m \u001b[38;5;28mprint\u001b[39m(np\u001b[38;5;241m.\u001b[39mmatmul(A,B))\n",
      "\u001b[0;31mValueError\u001b[0m: matmul: Input operand 1 has a mismatch in its core dimension 0, with gufunc signature (n?,k),(k,m?)->(n?,m?) (size 2 is different from 3)"
     ]
    }
   ],
   "source": [
    "print(np.matmul(A,B))"
   ]
  },
  {
   "cell_type": "code",
   "execution_count": 31,
   "id": "14b9089e-3740-4d0f-9e7b-5d75d17be5ab",
   "metadata": {
    "tags": []
   },
   "outputs": [
    {
     "name": "stdout",
     "output_type": "stream",
     "text": [
      "[[ 0 16]\n",
      " [ 0 31]]\n"
     ]
    }
   ],
   "source": [
    "print(np.matmul(A,np.transpose(B)))"
   ]
  },
  {
   "cell_type": "code",
   "execution_count": 32,
   "id": "d1099d9a-15de-45f8-a5fa-a43d05303112",
   "metadata": {
    "tags": []
   },
   "outputs": [
    {
     "name": "stdout",
     "output_type": "stream",
     "text": [
      "Help on function transpose in module numpy:\n",
      "\n",
      "transpose(a, axes=None)\n",
      "    Returns an array with axes transposed.\n",
      "    \n",
      "    For a 1-D array, this returns an unchanged view of the original array, as a\n",
      "    transposed vector is simply the same vector.\n",
      "    To convert a 1-D array into a 2-D column vector, an additional dimension\n",
      "    must be added, e.g., ``np.atleast2d(a).T`` achieves this, as does\n",
      "    ``a[:, np.newaxis]``.\n",
      "    For a 2-D array, this is the standard matrix transpose.\n",
      "    For an n-D array, if axes are given, their order indicates how the\n",
      "    axes are permuted (see Examples). If axes are not provided, then\n",
      "    ``transpose(a).shape == a.shape[::-1]``.\n",
      "    \n",
      "    Parameters\n",
      "    ----------\n",
      "    a : array_like\n",
      "        Input array.\n",
      "    axes : tuple or list of ints, optional\n",
      "        If specified, it must be a tuple or list which contains a permutation\n",
      "        of [0,1,...,N-1] where N is the number of axes of `a`. The `i`'th axis\n",
      "        of the returned array will correspond to the axis numbered ``axes[i]``\n",
      "        of the input. If not specified, defaults to ``range(a.ndim)[::-1]``,\n",
      "        which reverses the order of the axes.\n",
      "    \n",
      "    Returns\n",
      "    -------\n",
      "    p : ndarray\n",
      "        `a` with its axes permuted. A view is returned whenever possible.\n",
      "    \n",
      "    See Also\n",
      "    --------\n",
      "    ndarray.transpose : Equivalent method.\n",
      "    moveaxis : Move axes of an array to new positions.\n",
      "    argsort : Return the indices that would sort an array.\n",
      "    \n",
      "    Notes\n",
      "    -----\n",
      "    Use ``transpose(a, argsort(axes))`` to invert the transposition of tensors\n",
      "    when using the `axes` keyword argument.\n",
      "    \n",
      "    Examples\n",
      "    --------\n",
      "    >>> a = np.array([[1, 2], [3, 4]])\n",
      "    >>> a\n",
      "    array([[1, 2],\n",
      "           [3, 4]])\n",
      "    >>> np.transpose(a)\n",
      "    array([[1, 3],\n",
      "           [2, 4]])\n",
      "    \n",
      "    >>> a = np.array([1, 2, 3, 4])\n",
      "    >>> a\n",
      "    array([1, 2, 3, 4])\n",
      "    >>> np.transpose(a)\n",
      "    array([1, 2, 3, 4])\n",
      "    \n",
      "    >>> a = np.ones((1, 2, 3))\n",
      "    >>> np.transpose(a, (1, 0, 2)).shape\n",
      "    (2, 1, 3)\n",
      "    \n",
      "    >>> a = np.ones((2, 3, 4, 5))\n",
      "    >>> np.transpose(a).shape\n",
      "    (5, 4, 3, 2)\n",
      "\n"
     ]
    }
   ],
   "source": [
    "help(np.transpose)"
   ]
  },
  {
   "cell_type": "code",
   "execution_count": 39,
   "id": "057ef377-4eca-4111-a46d-394377ce7c5e",
   "metadata": {
    "tags": []
   },
   "outputs": [
    {
     "name": "stdout",
     "output_type": "stream",
     "text": [
      "[1.         1.73205081 2.23606798]\n"
     ]
    }
   ],
   "source": [
    "vec = np.array([1, 3, 5])\n",
    "print(np.sqrt(vec))"
   ]
  },
  {
   "cell_type": "markdown",
   "id": "ada7279e-a34a-4d6e-9825-1b035b23d381",
   "metadata": {},
   "source": [
    "Упраженение С1"
   ]
  },
  {
   "cell_type": "code",
   "execution_count": 41,
   "id": "492b95a7-20b4-4c01-8e71-e4b76e771d38",
   "metadata": {
    "tags": []
   },
   "outputs": [
    {
     "name": "stdout",
     "output_type": "stream",
     "text": [
      "[-6  0  6 12 18 24]\n"
     ]
    }
   ],
   "source": [
    "vec1 = np.arange(-2, 10, 2)\n",
    "print(vec1*3)"
   ]
  },
  {
   "cell_type": "code",
   "execution_count": 48,
   "id": "32bda5e9-9a18-4b89-a04a-949ae05d52bf",
   "metadata": {
    "tags": []
   },
   "outputs": [
    {
     "name": "stdout",
     "output_type": "stream",
     "text": [
      "(8,)\n"
     ]
    }
   ],
   "source": [
    "vec2 = np.arange(45, 5, -5)\n",
    "print(np.shape(vec2))"
   ]
  },
  {
   "cell_type": "markdown",
   "id": "79296dd5-d125-4457-a901-c810915c5ad4",
   "metadata": {},
   "source": [
    "Упражнение С2"
   ]
  },
  {
   "cell_type": "code",
   "execution_count": 5,
   "id": "327ba7a3-fbd3-4836-ac62-31c80047dd42",
   "metadata": {},
   "outputs": [
    {
     "name": "stdout",
     "output_type": "stream",
     "text": [
      "косинус:  [ 1.00000000e+00  8.66025404e-01  5.00000000e-01  6.12323400e-17\n",
      " -5.00000000e-01 -8.66025404e-01 -1.00000000e+00 -8.66025404e-01\n",
      " -5.00000000e-01 -1.83697020e-16  5.00000000e-01  8.66025404e-01]\n",
      "\n",
      "синус:  [ 0.00000000e+00  5.00000000e-01  8.66025404e-01  1.00000000e+00\n",
      "  8.66025404e-01  5.00000000e-01  1.22464680e-16 -5.00000000e-01\n",
      " -8.66025404e-01 -1.00000000e+00 -8.66025404e-01 -5.00000000e-01]\n",
      "\n",
      "тангенс:  [ 0.00000000e+00  5.77350269e-01  1.73205081e+00  1.63312394e+16\n",
      " -1.73205081e+00 -5.77350269e-01 -1.22464680e-16  5.77350269e-01\n",
      "  1.73205081e+00  5.44374645e+15 -1.73205081e+00 -5.77350269e-01]\n"
     ]
    }
   ],
   "source": [
    "vec3 = np.arange(0, np.pi * 2, np.pi/6)\n",
    "print('косинус: ', np.cos(vec3))\n",
    "print()\n",
    "print('синус: ', np.sin(vec3))\n",
    "print()\n",
    "print('тангенс: ', np.tan(vec3))"
   ]
  },
  {
   "cell_type": "code",
   "execution_count": 7,
   "id": "fc1a5e59-bdd2-49f0-811c-5359afccb77a",
   "metadata": {
    "tags": []
   },
   "outputs": [
    {
     "name": "stdout",
     "output_type": "stream",
     "text": [
      "[27.30823284 10.067662    3.76219569  1.54308063  1.          1.54308063\n",
      "  3.76219569 10.067662  ]\n"
     ]
    }
   ],
   "source": [
    "vec4 = np.arange(-2, 2, 0.5)\n",
    "print((np.cosh(vec4))**2 + (np.sinh(vec4))**2)"
   ]
  },
  {
   "cell_type": "code",
   "execution_count": null,
   "id": "d4b300d1-2b69-4cd9-bced-68acf02f9c90",
   "metadata": {},
   "outputs": [],
   "source": []
  }
 ],
 "metadata": {
  "kernelspec": {
   "display_name": "Python 3 (ipykernel)",
   "language": "python",
   "name": "python3"
  },
  "language_info": {
   "codemirror_mode": {
    "name": "ipython",
    "version": 3
   },
   "file_extension": ".py",
   "mimetype": "text/x-python",
   "name": "python",
   "nbconvert_exporter": "python",
   "pygments_lexer": "ipython3",
   "version": "3.11.5"
  }
 },
 "nbformat": 4,
 "nbformat_minor": 5
}
