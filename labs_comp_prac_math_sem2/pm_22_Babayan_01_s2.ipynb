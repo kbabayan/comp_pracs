{
 "cells": [
  {
   "cell_type": "markdown",
   "id": "a4292484-8758-473b-86e2-0ce056ab444f",
   "metadata": {},
   "source": [
    "Лабораторная работа номер 1"
   ]
  },
  {
   "cell_type": "markdown",
   "id": "db187e5f-2d3a-4229-b706-64717de93ede",
   "metadata": {},
   "source": [
    "Упражнение 1"
   ]
  },
  {
   "cell_type": "code",
   "execution_count": 1,
   "id": "e9b64291-64ff-4a24-a8bc-6ef4c3d8069d",
   "metadata": {
    "tags": []
   },
   "outputs": [
    {
     "name": "stdout",
     "output_type": "stream",
     "text": [
      "  x⋅cos(5⋅x)   sin(5⋅x)\n",
      "- ────────── + ────────\n",
      "      5           25   \n"
     ]
    }
   ],
   "source": [
    "import sympy as sp\n",
    "#a)\n",
    "x = sp.Symbol('x')\n",
    "I1 = sp.integrate(x*sp.sin(5*x), x)\n",
    "sp.pprint(I1)"
   ]
  },
  {
   "cell_type": "code",
   "execution_count": 2,
   "id": "cf7cf0f7-b91b-45ad-84d8-e36f8599e0a7",
   "metadata": {
    "tags": []
   },
   "outputs": [
    {
     "name": "stdout",
     "output_type": "stream",
     "text": [
      "                      ⎛ 2    ⎞                       \n",
      "  4⋅log(x - 2)   2⋅log⎝x  + 1⎠   3⋅atan(x)      1    \n",
      "- ──────────── + ───────────── + ───────── - ────────\n",
      "       25              25            25      5⋅x - 10\n"
     ]
    }
   ],
   "source": [
    "#б)\n",
    "I2 = sp.integrate(1/((x**2 + 1)*(x-2)**2), x)\n",
    "sp.pprint(I2)"
   ]
  },
  {
   "cell_type": "markdown",
   "id": "a924c92f-53ee-42c1-b581-faaa7b2e6fca",
   "metadata": {},
   "source": [
    "Упражнение 2"
   ]
  },
  {
   "cell_type": "code",
   "execution_count": 3,
   "id": "6eea5918-d3a3-4fe6-af9f-98436a5fe356",
   "metadata": {
    "tags": []
   },
   "outputs": [
    {
     "name": "stdout",
     "output_type": "stream",
     "text": [
      "π\n",
      "─\n",
      "2\n"
     ]
    }
   ],
   "source": [
    "#a)\n",
    "opr_I_1 = sp.integrate(sp.sqrt(1-x**2), (x, -1, 1))\n",
    "sp.pprint(opr_I_1)"
   ]
  },
  {
   "cell_type": "code",
   "execution_count": 4,
   "id": "8e2350e9-51f1-4f75-9903-ad23d07fe2a8",
   "metadata": {
    "tags": []
   },
   "outputs": [
    {
     "name": "stdout",
     "output_type": "stream",
     "text": [
      "       3\n",
      "1   2⋅ℯ \n",
      "─ + ────\n",
      "9    9  \n"
     ]
    }
   ],
   "source": [
    "#б)\n",
    "opr_I2 = sp.integrate((x * sp.exp(3*x)), (x, 0, 1))\n",
    "sp.pprint(opr_I2)"
   ]
  },
  {
   "cell_type": "markdown",
   "id": "8c37917a-ec96-475f-92dc-6f1143948825",
   "metadata": {},
   "source": [
    "Упражнение 3"
   ]
  },
  {
   "cell_type": "code",
   "execution_count": 15,
   "id": "3f14406b-6c98-4e9d-bf16-f33ad412814c",
   "metadata": {
    "tags": []
   },
   "outputs": [],
   "source": [
    "def integral_sum_right(func, a, b, n):\n",
    "    int_sum = 0\n",
    "    step = (b - a)/n\n",
    "    for i in range(1, n+1):\n",
    "        ksi = a+i*step\n",
    "        int_sum += func(ksi) * step\n",
    "    return int_sum\n",
    "\n",
    "def integral_sum_left(func, a, b, n):\n",
    "    int_sum = 0\n",
    "    step = (b - a)/n\n",
    "    for i in range(0, n):\n",
    "        ksi = a+i*step\n",
    "        int_sum += func(ksi) * step\n",
    "    return int_sum"
   ]
  },
  {
   "cell_type": "code",
   "execution_count": 16,
   "id": "ffcff82d-951f-4a0e-8e5b-e0fecf7ca83d",
   "metadata": {
    "tags": []
   },
   "outputs": [
    {
     "name": "stdout",
     "output_type": "stream",
     "text": [
      "1.625\n",
      "1.375\n"
     ]
    }
   ],
   "source": [
    "def f(x):\n",
    "    return x\n",
    "\n",
    "print(integral_sum_right(f, 1, 2, 4))\n",
    "print(integral_sum_left(f, 1, 2, 4))"
   ]
  },
  {
   "cell_type": "code",
   "execution_count": 19,
   "id": "f8d510bf-5d0c-43ee-8b42-3d8ddce1d22d",
   "metadata": {
    "tags": []
   },
   "outputs": [
    {
     "name": "stdout",
     "output_type": "stream",
     "text": [
      "right:  1.625\n",
      "left:  1.375\n"
     ]
    }
   ],
   "source": [
    "# Проверка\n",
    "# правый\n",
    "print('right: ', (1.25+1.5+1.75+2)*0.25)\n",
    "print('left: ', (1+1.25+1.5+1.75)*0.25)"
   ]
  },
  {
   "cell_type": "markdown",
   "id": "7be7870e-0592-418a-80e0-e683e8afa808",
   "metadata": {},
   "source": [
    "Упражнение 4"
   ]
  },
  {
   "cell_type": "code",
   "execution_count": 28,
   "id": "1dc0e6a9-0fe2-40f2-81c9-123349fce6a7",
   "metadata": {
    "tags": []
   },
   "outputs": [],
   "source": [
    "from scipy.optimize import minimize_scalar"
   ]
  },
  {
   "cell_type": "code",
   "execution_count": 57,
   "id": "54f168ca-ae15-44a9-9f40-063f4a44e497",
   "metadata": {
    "tags": []
   },
   "outputs": [],
   "source": [
    "def upper_sum_Darbu(f, a, b, n):\n",
    "    delta_x = (b - a) / n\n",
    "    upper_sum = 0\n",
    "    for i in range(n):\n",
    "        xi = a + i * delta_x\n",
    "        xi_plus_1 = a + (i + 1) * delta_x\n",
    "        max_result = minimize_scalar(lambda x: -f(x), bounds=(xi, xi_plus_1))\n",
    "        upper_sum += float(max_result.fun) * delta_x\n",
    "    return -upper_sum\n",
    "\n",
    "def lower_sum_Darbu(f, a, b, n):\n",
    "    delta_x = (b - a) / n\n",
    "    lower_sum = 0\n",
    "    for i in range(n):\n",
    "        xi = a + i * delta_x\n",
    "        xi_plus_1 = a + (i + 1) * delta_x\n",
    "        min_result = minimize_scalar(f, bounds=(xi, xi_plus_1))\n",
    "        lower_sum += float(min_result.fun) * delta_x\n",
    "    return lower_sum"
   ]
  },
  {
   "cell_type": "code",
   "execution_count": 58,
   "id": "98e3de41-8f87-409d-84e7-146de636209a",
   "metadata": {
    "tags": []
   },
   "outputs": [
    {
     "name": "stdout",
     "output_type": "stream",
     "text": [
      "1.6249936873469142\n",
      "1.3750063126530858\n"
     ]
    }
   ],
   "source": [
    "def f(x):\n",
    "    return x\n",
    "\n",
    "print(upper_sum_Darbu(f, 1, 2, 4))\n",
    "print(lower_sum_Darbu(f, 1, 2, 4))"
   ]
  },
  {
   "cell_type": "markdown",
   "id": "09659364-fb79-4597-888d-e5ac0fde8425",
   "metadata": {},
   "source": [
    "Упражнение 5"
   ]
  },
  {
   "cell_type": "code",
   "execution_count": 59,
   "id": "625083e3-09a7-40b0-b9d7-7450057afc59",
   "metadata": {
    "tags": []
   },
   "outputs": [
    {
     "name": "stdout",
     "output_type": "stream",
     "text": [
      "0.1350825312568837\n",
      "0.1354320950591664\n",
      "\n",
      "0.13543042344391493\n",
      "0.1350841997178889\n"
     ]
    }
   ],
   "source": [
    "import numpy as np\n",
    "\n",
    "def f_5(x):\n",
    "    return np.exp(-x**2)\n",
    "\n",
    "print(integral_sum_right(f_5, 1, 2, 1000))\n",
    "print(integral_sum_left(f_5, 1, 2, 1000))\n",
    "print()\n",
    "print(upper_sum_Darbu(f_5, 1, 2, 1000))\n",
    "print(lower_sum_Darbu(f_5, 1, 2, 1000))"
   ]
  },
  {
   "cell_type": "markdown",
   "id": "fcbb1bdf-ea9a-4661-ba9d-49397a89523c",
   "metadata": {},
   "source": [
    "Упражнение 6"
   ]
  },
  {
   "cell_type": "code",
   "execution_count": 61,
   "id": "275be8f4-dc61-429d-b9df-06622e2a7a4c",
   "metadata": {
    "tags": []
   },
   "outputs": [
    {
     "name": "stdout",
     "output_type": "stream",
     "text": [
      "При разбиении на 100: 0.13525725749864728\n",
      "При разбиении на 1000: 0.13525725794995166\n"
     ]
    }
   ],
   "source": [
    "import numpy as np\n",
    "from scipy import integrate\n",
    "  \n",
    "x_1 = np.linspace(1, 2, 100)\n",
    "x_2 = np.linspace(1, 2, 1000)\n",
    "print(f'При разбиении на 100: {integrate.simpson(np.exp(-x_1**2), x_1)}')\n",
    "print(f'При разбиении на 1000: {integrate.simpson(np.exp(-x_2**2), x_2)}')"
   ]
  },
  {
   "cell_type": "markdown",
   "id": "12ed6540-3746-48ea-a3d3-6b2ec39f3e64",
   "metadata": {},
   "source": [
    "Упражнение С1"
   ]
  },
  {
   "cell_type": "code",
   "execution_count": 65,
   "id": "90e165d1-e0c0-4a98-95ec-ef30c6c5a367",
   "metadata": {
    "tags": []
   },
   "outputs": [
    {
     "name": "stdout",
     "output_type": "stream",
     "text": [
      "     ⎛√2⋅(x + 1)⎞\n",
      "asinh⎜──────────⎟\n",
      "     ⎝    2     ⎠\n"
     ]
    }
   ],
   "source": [
    "Integral = sp.integrate(1/(sp.sqrt(x**2 + 2*x + 3)), x)\n",
    "sp.pprint(Integral)"
   ]
  },
  {
   "cell_type": "markdown",
   "id": "ca17094f-7732-4b0c-8a0d-9ae51b6600c2",
   "metadata": {
    "tags": []
   },
   "source": [
    "Без использования python:"
   ]
  },
  {
   "attachments": {
    "f47bfbb6-bd91-410e-91af-1285bd53f299.png": {
     "image/png": "[encoded data removed]"
    }
   },
   "cell_type": "markdown",
   "id": "4946a244-c9d0-45a8-b988-65e7a643dabd",
   "metadata": {},
   "source": [
    "![image.png](attachment:f47bfbb6-bd91-410e-91af-1285bd53f299.png)"
   ]
  },
  {
   "cell_type": "markdown",
   "id": "1f9e9877-9f3d-4ad9-8d48-0ae1ea3c9c72",
   "metadata": {},
   "source": [
    "Упражнение С2"
   ]
  },
  {
   "cell_type": "code",
   "execution_count": 68,
   "id": "8ea2f3e4-30d5-4a13-a097-6bbfa2186cca",
   "metadata": {
    "tags": []
   },
   "outputs": [
    {
     "name": "stdout",
     "output_type": "stream",
     "text": [
      "   ⎛ 2⎞\n",
      "   ⎜π ⎟\n",
      "sin⎜──⎟\n",
      "   ⎝4 ⎠\n",
      "───────\n",
      "   2   \n"
     ]
    }
   ],
   "source": [
    "opr_Int = sp.integrate(x*sp.cos(x**2), (x, 0, sp.pi/2))\n",
    "sp.pprint(opr_Int)"
   ]
  },
  {
   "cell_type": "markdown",
   "id": "7978dd37-964e-4225-996f-2fe3adae5ee4",
   "metadata": {},
   "source": [
    "Упражнение С3"
   ]
  },
  {
   "cell_type": "code",
   "execution_count": 69,
   "id": "793ab767-aae7-413e-a6e5-4f425942e97e",
   "metadata": {
    "tags": []
   },
   "outputs": [],
   "source": [
    "def lambda_int_sum(f, a, b, n, l):\n",
    "    summ = 0\n",
    "    ln = abs(b - a)\n",
    "    dxi = ln/n\n",
    "    for i in range(1, n + 1, 1):\n",
    "        summ += f.subs(x, ((a + ((i/n)*ln) - dxi)) + dxi * l) * dxi\n",
    "    return summ"
   ]
  },
  {
   "cell_type": "code",
   "execution_count": 71,
   "id": "edc54f61-1318-41dd-ab07-a80ef1c15bee",
   "metadata": {
    "tags": []
   },
   "outputs": [
    {
     "name": "stdout",
     "output_type": "stream",
     "text": [
      "1.50000000000000\n"
     ]
    }
   ],
   "source": [
    "x = sp.symbols('x')\n",
    "f = x\n",
    "print(lambda_int_sum(f, 1, 2, 4, 0.5))"
   ]
  },
  {
   "cell_type": "markdown",
   "id": "dfd55581-3d12-405f-bec4-48babc0015e7",
   "metadata": {},
   "source": [
    "Задание 1"
   ]
  },
  {
   "cell_type": "code",
   "execution_count": 72,
   "id": "1d070f0c-9cf1-4c47-81c7-dfc84897deb8",
   "metadata": {
    "tags": []
   },
   "outputs": [],
   "source": [
    "def lambda_int_sum(f, a, b, n, l):\n",
    "    summ = 0\n",
    "    ln = abs(b - a)\n",
    "    dxi = ln/n\n",
    "    for i in range(1, n + 1, 1):\n",
    "        summ += f.subs(x, ((a + ((i/n)*ln) - dxi)) + dxi * l) * dxi\n",
    "    return summ"
   ]
  },
  {
   "cell_type": "code",
   "execution_count": 87,
   "id": "1cc25877-2bf8-490d-adda-1abd1b639b29",
   "metadata": {
    "tags": []
   },
   "outputs": [
    {
     "name": "stdout",
     "output_type": "stream",
     "text": [
      "2 части, отношение 1/3: -11.1111111111111\n",
      "4 части, отношение 1/3: -10.4444444444444\n",
      "8 части, отношение 1/3: -9.94444444444444\n",
      "16 части, отношение 1/3: -9.65277777777778\n",
      "32 части, отношение 1/3: -9.49652777777778\n",
      "64 части, отношение 1/3: -9.41579861111112\n",
      "128 части, отношение 1/3: -9.37478298611110\n",
      "256 части, отношение 1/3: -9.35411241319447\n",
      "512 части, отношение 1/3: -9.34373643663189\n",
      "1024 части, отношение 1/3: -9.33853827582475\n"
     ]
    }
   ],
   "source": [
    "x = sp.symbols('x')\n",
    "f = -x**2\n",
    "for i in range(1, 11):\n",
    "    print(f'{2**i} части, отношение 1/3: {lambda_int_sum(f, -4, 2, 2**i, 1/3)}')"
   ]
  },
  {
   "cell_type": "markdown",
   "id": "cacf7d34-a2c1-4800-9f30-a4c0917689cc",
   "metadata": {},
   "source": [
    "Задание 2"
   ]
  },
  {
   "cell_type": "code",
   "execution_count": 86,
   "id": "b885ebf4-9ab5-4a74-840a-3987f41ca9ee",
   "metadata": {
    "tags": []
   },
   "outputs": [
    {
     "name": "stdout",
     "output_type": "stream",
     "text": [
      "-18.00017882646916\n",
      "-69.99953505390903\n",
      "-28.000179770655592\n",
      "-53.99971411836427\n",
      "-33.7502911720202\n",
      "-46.74963307805556\n",
      "-36.812740088367704\n",
      "-43.312230621781744\n",
      "-38.39096265623234\n",
      "-41.6402672902922\n",
      "-39.19168217530851\n",
      "-40.816122271804005\n",
      "-39.59491821144208\n",
      "-40.407032140552396\n",
      "-39.797415905261445\n",
      "-40.20307022969962\n",
      "-39.89871291038862\n",
      "-40.10140838897535\n",
      "-39.94954913992271\n",
      "-40.05048081076547\n"
     ]
    }
   ],
   "source": [
    "def f(x):\n",
    "    return -x**2\n",
    "for i in range(1, 11):\n",
    "    print(upper_sum_Darbu(f, -3, -1, 2**i))\n",
    "    print(lower_sum_Darbu(f, -3, -1, 2**i))"
   ]
  },
  {
   "cell_type": "code",
   "execution_count": null,
   "id": "a8917bd9-250b-47bf-b2ff-7848dfa57c48",
   "metadata": {},
   "outputs": [],
   "source": []
  }
 ],
 "metadata": {
  "kernelspec": {
   "display_name": "Python 3 (ipykernel)",
   "language": "python",
   "name": "python3"
  },
  "language_info": {
   "codemirror_mode": {
    "name": "ipython",
    "version": 3
   },
   "file_extension": ".py",
   "mimetype": "text/x-python",
   "name": "python",
   "nbconvert_exporter": "python",
   "pygments_lexer": "ipython3",
   "version": "3.11.5"
  }
 },
 "nbformat": 4,
 "nbformat_minor": 5
}
