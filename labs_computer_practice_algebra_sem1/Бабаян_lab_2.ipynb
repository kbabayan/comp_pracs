{
 "cells": [
  {
   "cell_type": "markdown",
   "id": "5438b021-a1be-40a3-bbf9-b4a116c19217",
   "metadata": {},
   "source": [
    "Лабораторная работа номер 2"
   ]
  },
  {
   "cell_type": "markdown",
   "id": "cc5d2f82-84b4-430d-a04a-2ed5f84c9278",
   "metadata": {},
   "source": [
    "Упражнение 1"
   ]
  },
  {
   "cell_type": "markdown",
   "id": "761174a9-7792-431c-b113-a04c8c5eb764",
   "metadata": {},
   "source": [
    "1)"
   ]
  },
  {
   "cell_type": "code",
   "execution_count": 4,
   "id": "5503f258-63a3-4266-b78c-4fa9ac077ec2",
   "metadata": {
    "tags": []
   },
   "outputs": [
    {
     "name": "stdout",
     "output_type": "stream",
     "text": [
      "18\n",
      "17.999999999999996\n"
     ]
    }
   ],
   "source": [
    "import numpy as np\n",
    "from sympy import *\n",
    "\n",
    "matr = np.array([[-1, 4], [-5, 2]])\n",
    "print(matr[0,0] * matr[1, 1] - matr[0, 1] * matr[1, 0])\n",
    "print(np.linalg.det(matr))"
   ]
  },
  {
   "cell_type": "markdown",
   "id": "7f93368e-5454-4572-9e9c-670db0d75f80",
   "metadata": {},
   "source": [
    "2)"
   ]
  },
  {
   "cell_type": "code",
   "execution_count": 6,
   "id": "26808e0a-3417-4c71-9b50-666cf400c410",
   "metadata": {
    "tags": []
   },
   "outputs": [
    {
     "name": "stdout",
     "output_type": "stream",
     "text": [
      "0\n",
      "0\n"
     ]
    }
   ],
   "source": [
    "a,b = symbols('a b')\n",
    "matr = Matrix([[a+b, a-b], [a+b, a-b]])\n",
    "print(matr[0,0] * matr[1, 1] - matr[0, 1] * matr[1, 0])\n",
    "print(det(matr))"
   ]
  },
  {
   "cell_type": "code",
   "execution_count": 7,
   "id": "6d5ba86a-c3ae-46ab-9a6e-b1a8aaa4acea",
   "metadata": {
    "tags": []
   },
   "outputs": [
    {
     "name": "stdout",
     "output_type": "stream",
     "text": [
      "x*(x + 1) + 4*x + 4\n",
      "x**2 + 5*x + 4\n"
     ]
    }
   ],
   "source": [
    "x = symbols('x')\n",
    "matr = Matrix([[x, x+1], [-4, x+1]])\n",
    "print(matr[0,0] * matr[1, 1] - matr[0, 1] * matr[1, 0])\n",
    "print(det(matr))"
   ]
  },
  {
   "cell_type": "markdown",
   "id": "daf0d006-5222-47f6-8d54-eaad181bb87a",
   "metadata": {},
   "source": [
    "Упражнение 2"
   ]
  },
  {
   "cell_type": "code",
   "execution_count": 18,
   "id": "e14d8533-dd03-4c5a-a637-03494b6a6410",
   "metadata": {
    "tags": []
   },
   "outputs": [
    {
     "name": "stdout",
     "output_type": "stream",
     "text": [
      "23.999999999999993\n"
     ]
    }
   ],
   "source": [
    "X = np.array([[1, 2, 3],\n",
    "              [4, 5, 6],\n",
    "              [7, 8, 1]])\n",
    "print(np.linalg.det(X))"
   ]
  },
  {
   "cell_type": "code",
   "execution_count": 20,
   "id": "e0b7f92f-d6f5-4c56-b9e7-36f994ce7ad5",
   "metadata": {
    "tags": []
   },
   "outputs": [
    {
     "name": "stdout",
     "output_type": "stream",
     "text": [
      "0.0\n"
     ]
    }
   ],
   "source": [
    "X = np.array([[3, 4, -5],\n",
    "              [8, 7, -2],\n",
    "              [2, -1, 8]])\n",
    "print(np.linalg.det(X))"
   ]
  },
  {
   "cell_type": "code",
   "execution_count": 23,
   "id": "328a129d-6867-48bc-9785-73cb4caf606c",
   "metadata": {
    "tags": []
   },
   "outputs": [
    {
     "name": "stdout",
     "output_type": "stream",
     "text": [
      "a*c*d + a*c*x + a*d*x + c*d*x\n"
     ]
    }
   ],
   "source": [
    "a,b,c,x = symbols('a d c x')\n",
    "X = Matrix([[a+x, x, x],\n",
    "            [x, b+x, x],\n",
    "            [x, x, c+x]])\n",
    "print(det(X))"
   ]
  },
  {
   "cell_type": "code",
   "execution_count": 25,
   "id": "42e417b7-df4d-4e79-b694-7306f08103f4",
   "metadata": {
    "tags": []
   },
   "outputs": [
    {
     "name": "stdout",
     "output_type": "stream",
     "text": [
      "cos(a)*sin(c) - cos(a)*sin(d) - cos(c)*sin(a) + cos(c)*sin(d) + cos(d)*sin(a) - cos(d)*sin(c)\n"
     ]
    }
   ],
   "source": [
    "sinA,sinB,sinC = symbols('sin(a) sin(d) sin(c)')\n",
    "cosA,cosB,cosC = symbols('cos(a) cos(d) cos(c)')\n",
    "\n",
    "X = Matrix([[sinA, cosA, 1],\n",
    "            [sinB, cosB, 1],\n",
    "            [sinC, cosC, 1]])\n",
    "print(det(X))"
   ]
  },
  {
   "cell_type": "markdown",
   "id": "7bfa4dee-2305-49e8-a9a7-8b77bad9112e",
   "metadata": {},
   "source": [
    "Упражнение 3"
   ]
  },
  {
   "cell_type": "code",
   "execution_count": 54,
   "id": "2324d770-bfeb-4ccc-9ba1-1acde2199756",
   "metadata": {
    "tags": []
   },
   "outputs": [
    {
     "name": "stdout",
     "output_type": "stream",
     "text": [
      "Проверка пройдена: A⋅X - B = 0\n",
      "Решение системы:\n",
      "x = 16.000000000000007\n",
      "y = 7.000000000000001\n"
     ]
    }
   ],
   "source": [
    "A = np.array([[3, -5], [2, 7]])\n",
    "B = np.array([13, 81])\n",
    "\n",
    "det_A = np.linalg.det(A)\n",
    "\n",
    "A1 = A.copy()\n",
    "A1[:, 0] = B\n",
    "det_A1 = np.linalg.det(A1)\n",
    "\n",
    "A2 = A.copy()\n",
    "A2[:, 1] = B\n",
    "det_A2 = np.linalg.det(A2)\n",
    "\n",
    "X1 = det_A1 / det_A\n",
    "X2 = det_A2 / det_A\n",
    "\n",
    "X = np.array([X1, X2])\n",
    "\n",
    "left_side = np.dot(A, X)\n",
    "right_side = B\n",
    "\n",
    "if np.allclose(left_side, right_side):\n",
    "    print(\"Проверка пройдена: A⋅X - B = 0\")\n",
    "else:\n",
    "    print(\"Проверка не пройдена: A⋅X - B != 0\")\n",
    "\n",
    "print(\"Решение системы:\")\n",
    "print(\"x =\", X[0])\n",
    "print(\"y =\", X[1])\n"
   ]
  },
  {
   "cell_type": "code",
   "execution_count": 56,
   "id": "ba4d9f02-22fc-4d34-b548-6c50ad7dcb90",
   "metadata": {
    "tags": []
   },
   "outputs": [
    {
     "name": "stdout",
     "output_type": "stream",
     "text": [
      "Система уравнений вырождена или имеет бесконечное количество решений.\n"
     ]
    }
   ],
   "source": [
    "A = np.array([[3, -4], [-6, 8]])\n",
    "B = np.array([-6, 12])\n",
    "\n",
    "det_A = np.linalg.det(A)\n",
    "\n",
    "if det_A == 0:\n",
    "    print(\"Система уравнений вырождена или имеет бесконечное количество решений.\")\n",
    "else:\n",
    "    A1 = A.copy()\n",
    "    A1[:, 0] = B\n",
    "    det_A1 = np.linalg.det(A1)\n",
    "\n",
    "    A2 = A.copy()\n",
    "    A2[:, 1] = B\n",
    "    det_A2 = np.linalg.det(A2)\n",
    "\n",
    "    X1 = det_A1 / det_A\n",
    "    X2 = det_A2 / det_A\n",
    "\n",
    "    X = np.array([X1, X2])\n",
    "\n",
    "    left_side = np.dot(A, X)\n",
    "    right_side = B\n",
    "\n",
    "    if np.allclose(left_side, right_side):\n",
    "        print(\"Проверка пройдена: A⋅X - B = 0\")\n",
    "    else:\n",
    "        print(\"Проверка не пройдена: A⋅X - B != 0\")\n",
    "\n",
    "    print(\"Решение системы:\")\n",
    "    print(\"x =\", X[0])\n",
    "    print(\"y =\", X[1])"
   ]
  },
  {
   "cell_type": "code",
   "execution_count": 57,
   "id": "756a01cd-2db1-4a1d-8171-fc03f0a97b79",
   "metadata": {
    "tags": []
   },
   "outputs": [
    {
     "name": "stdout",
     "output_type": "stream",
     "text": [
      "Проверка пройдена: A⋅X - B = 0\n",
      "Решение системы:\n",
      "x = 2.0\n",
      "y = -1.0\n",
      "z = 0.999999999999999\n"
     ]
    }
   ],
   "source": [
    "A = np.array([[7, 2, 3], [5, -3, 2], [10, -11, 5]])\n",
    "B = np.array([15, 15, 36])\n",
    "\n",
    "det_A = np.linalg.det(A)\n",
    "\n",
    "A1 = A.copy()\n",
    "A1[:, 0] = B\n",
    "det_A1 = np.linalg.det(A1)\n",
    "\n",
    "A2 = A.copy()\n",
    "A2[:, 1] = B\n",
    "det_A2 = np.linalg.det(A2)\n",
    "\n",
    "A3 = A.copy()\n",
    "A3[:, 2] = B\n",
    "det_A3 = np.linalg.det(A3)\n",
    "\n",
    "X1 = det_A1 / det_A\n",
    "X2 = det_A2 / det_A\n",
    "X3 = det_A3 / det_A\n",
    "\n",
    "X = np.array([X1, X2, X3])\n",
    "\n",
    "left_side = np.dot(A, X)\n",
    "right_side = B\n",
    "\n",
    "if np.allclose(left_side, right_side):\n",
    "    print(\"Проверка пройдена: A⋅X - B = 0\")\n",
    "else:\n",
    "    print(\"Проверка не пройдена: A⋅X - B != 0\")\n",
    "\n",
    "print(\"Решение системы:\")\n",
    "print(\"x =\", X[0])\n",
    "print(\"y =\", X[1])\n",
    "print(\"z =\", X[2])\n"
   ]
  },
  {
   "cell_type": "code",
   "execution_count": 62,
   "id": "33882923-20ac-4f7d-a6c7-4fff245a6236",
   "metadata": {
    "tags": []
   },
   "outputs": [
    {
     "name": "stdout",
     "output_type": "stream",
     "text": [
      "Проверка пройдена: A⋅X - B = 0\n",
      "Решение системы:\n",
      "x = 1.0\n",
      "y = 3.000000000000001\n",
      "z = 5.000000000000001\n"
     ]
    }
   ],
   "source": [
    "A = np.array([[2, 1, 0], [1, 0, 3], [0, 5, -1]])\n",
    "B = np.array([5, 16, 10])\n",
    "\n",
    "det_A = np.linalg.det(A)\n",
    "\n",
    "A1 = A.copy()\n",
    "A1[:, 0] = B\n",
    "det_A1 = np.linalg.det(A1)\n",
    "\n",
    "A2 = A.copy()\n",
    "A2[:, 1] = B\n",
    "det_A2 = np.linalg.det(A2)\n",
    "\n",
    "A3 = A.copy()\n",
    "A3[:, 2] = B\n",
    "det_A3 = np.linalg.det(A3)\n",
    "\n",
    "X1 = det_A1 / det_A\n",
    "X2 = det_A2 / det_A\n",
    "X3 = det_A3 / det_A\n",
    "\n",
    "X = np.array([X1, X2, X3])\n",
    "\n",
    "left_side = np.dot(A, X)\n",
    "right_side = B\n",
    "\n",
    "if np.allclose(left_side, right_side):\n",
    "    print(\"Проверка пройдена: A⋅X - B = 0\")\n",
    "else:\n",
    "    print(\"Проверка не пройдена: A⋅X - B != 0\")\n",
    "\n",
    "print(\"Решение системы:\")\n",
    "print(\"x =\", X[0])\n",
    "print(\"y =\", X[1])\n",
    "print(\"z =\", X[2])\n"
   ]
  },
  {
   "cell_type": "code",
   "execution_count": null,
   "id": "1d0fe397-52d8-44b3-9247-1b08f523bb6b",
   "metadata": {},
   "outputs": [],
   "source": [
    "Упражнение 4"
   ]
  },
  {
   "cell_type": "code",
   "execution_count": 59,
   "id": "a5c3f45c-28e8-489d-8fe3-8ac20a30851a",
   "metadata": {
    "tags": []
   },
   "outputs": [
    {
     "name": "stdout",
     "output_type": "stream",
     "text": [
      "Решение системы:\n",
      "x = 16\n",
      "y = 7\n",
      "Проверка пройдена: A⋅X - B = 0\n"
     ]
    }
   ],
   "source": [
    "from sympy import symbols, Eq, solve\n",
    "\n",
    "x, y = symbols('x y')\n",
    "\n",
    "eq1 = Eq(3*x - 5*y, 13)\n",
    "eq2 = Eq(2*x + 7*y, 81)\n",
    "\n",
    "solution = solve((eq1, eq2), (x, y))\n",
    "\n",
    "print(\"Решение системы:\")\n",
    "print(\"x =\", solution[x])\n",
    "print(\"y =\", solution[y])\n",
    "\n",
    "A = [[3, -5], [2, 7]]\n",
    "B = [13, 81]\n",
    "X = [solution[x], solution[y]]\n",
    "\n",
    "left_side = [sum(a * X for a, X in zip(row, X)) for row in A]\n",
    "\n",
    "if left_side == B:\n",
    "    print(\"Проверка пройдена: A⋅X - B = 0\")\n",
    "else:\n",
    "    print(\"Проверка не пройдена: A⋅X - B != 0\")\n"
   ]
  },
  {
   "cell_type": "code",
   "execution_count": 61,
   "id": "49e7a20c-8da4-495f-8fb4-a23ea826f447",
   "metadata": {
    "tags": []
   },
   "outputs": [
    {
     "name": "stdout",
     "output_type": "stream",
     "text": [
      "Решение системы:\n",
      "x = 4*y/3 - 2\n",
      "y - любое число\n",
      "Проверка не пройдена: A⋅X - B != 0\n"
     ]
    }
   ],
   "source": [
    "from sympy import S, oo\n",
    "\n",
    "x, y = symbols('x y')\n",
    "\n",
    "# Уравнения из системы\n",
    "eq1 = Eq(3*x - 4*y, -6)\n",
    "eq2 = Eq(-6*x + 8*y, 12)\n",
    "\n",
    "solution = solve((eq1, eq2), (x, y))\n",
    "\n",
    "if solution:\n",
    "    print(\"Решение системы:\")\n",
    "    print(\"x =\", solution[x])\n",
    "    \n",
    "    if y in solution:\n",
    "        print(\"y =\", solution[y])\n",
    "    else:\n",
    "        print(\"y - любое число\")\n",
    "    \n",
    "    A = [[3, -4], [-6, 8]]\n",
    "    B = [-6, 12]\n",
    "    X = [solution[x]]\n",
    "    \n",
    "    if y in solution:\n",
    "        X.append(solution[y])\n",
    "\n",
    "    left_side = [sum(a * X for a, X in zip(row, X)) for row in A]\n",
    "\n",
    "    if left_side == B:\n",
    "        print(\"Проверка пройдена: A⋅X - B = 0\")\n",
    "    else:\n",
    "        print(\"Проверка не пройдена: A⋅X - B != 0\")\n",
    "else:\n",
    "    # Случай бесконечного числа решений\n",
    "    print(\"Система имеет бесконечное число решений.\")\n"
   ]
  },
  {
   "cell_type": "markdown",
   "id": "80a1b330-68cc-41ca-99c4-c3f063ac0105",
   "metadata": {},
   "source": [
    "Упражнение 5"
   ]
  },
  {
   "cell_type": "code",
   "execution_count": 63,
   "id": "9a5f32bd-5ee9-4703-8622-c88656509add",
   "metadata": {
    "tags": []
   },
   "outputs": [
    {
     "name": "stdout",
     "output_type": "stream",
     "text": [
      "Решение системы 1:\n",
      "x = 16.0\n",
      "y = 7.0\n"
     ]
    }
   ],
   "source": [
    "A1 = np.array([[3, -5], [2, 7]])\n",
    "\n",
    "B1 = np.array([13, 81])\n",
    "\n",
    "A_inv1 = np.linalg.inv(A1)\n",
    "\n",
    "X1 = np.dot(A_inv1, B1)\n",
    "\n",
    "print(\"Решение системы 1:\")\n",
    "print(\"x =\", X1[0])\n",
    "print(\"y =\", X1[1])\n"
   ]
  },
  {
   "cell_type": "code",
   "execution_count": 67,
   "id": "e1ef28a5-ce83-427b-bbe0-e7829bd7067c",
   "metadata": {
    "tags": []
   },
   "outputs": [
    {
     "name": "stdout",
     "output_type": "stream",
     "text": [
      "\n",
      "Матрица коэффициентов вырожденная, система уравнений имеет бесконечное число решений.\n"
     ]
    }
   ],
   "source": [
    "A2 = np.array([[3, -4], [-6, 8]])\n",
    "\n",
    "B2 = np.array([-6, 12])\n",
    "\n",
    "det_A2 = np.linalg.det(A2)\n",
    "\n",
    "if det_A2 != 0:\n",
    "    A_inv2 = np.linalg.inv(A2)\n",
    "\n",
    "    X2 = np.dot(A_inv2, B2)\n",
    "\n",
    "    print(\"\\nРешение системы 2:\")\n",
    "    print(\"x =\", X2[0])\n",
    "    print(\"y =\", X2[1])\n",
    "else:\n",
    "    print(\"\\nМатрица коэффициентов вырожденная, система уравнений имеет бесконечное число решений.\")\n"
   ]
  },
  {
   "cell_type": "code",
   "execution_count": null,
   "id": "cb41814f-12f7-49f5-a2f3-d71b7dff272b",
   "metadata": {},
   "outputs": [],
   "source": []
  }
 ],
 "metadata": {
  "kernelspec": {
   "display_name": "Python 3 (ipykernel)",
   "language": "python",
   "name": "python3"
  },
  "language_info": {
   "codemirror_mode": {
    "name": "ipython",
    "version": 3
   },
   "file_extension": ".py",
   "mimetype": "text/x-python",
   "name": "python",
   "nbconvert_exporter": "python",
   "pygments_lexer": "ipython3",
   "version": "3.11.5"
  }
 },
 "nbformat": 4,
 "nbformat_minor": 5
}
