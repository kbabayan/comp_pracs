{
 "cells": [
  {
   "cell_type": "markdown",
   "id": "e826776d-9f42-48c2-9276-5682ee60d0b2",
   "metadata": {},
   "source": [
    "Упражнение 1"
   ]
  },
  {
   "cell_type": "code",
   "execution_count": 1,
   "id": "0ed22eaf-de63-44af-bb75-8c1e6f305b75",
   "metadata": {
    "tags": []
   },
   "outputs": [
    {
     "data": {
      "text/plain": [
       "6"
      ]
     },
     "execution_count": 1,
     "metadata": {},
     "output_type": "execute_result"
    }
   ],
   "source": [
    "2*3"
   ]
  },
  {
   "cell_type": "code",
   "execution_count": 3,
   "id": "a90cf0fc-1bd9-4d15-b45f-589acfc00e47",
   "metadata": {
    "tags": []
   },
   "outputs": [
    {
     "name": "stdout",
     "output_type": "stream",
     "text": [
      "7\n"
     ]
    }
   ],
   "source": [
    "k = 3 + 4\n",
    "print(k)"
   ]
  },
  {
   "cell_type": "code",
   "execution_count": 4,
   "id": "8eca7652-422d-463f-a99f-e01f0d42986a",
   "metadata": {
    "tags": []
   },
   "outputs": [
    {
     "data": {
      "text/plain": [
       "48"
      ]
     },
     "execution_count": 4,
     "metadata": {},
     "output_type": "execute_result"
    }
   ],
   "source": [
    "(k+1)*(k-1)"
   ]
  },
  {
   "cell_type": "code",
   "execution_count": 5,
   "id": "35bcf498-defa-4e03-9253-2bcc7d2a147c",
   "metadata": {
    "tags": []
   },
   "outputs": [
    {
     "ename": "NameError",
     "evalue": "name 'x' is not defined",
     "output_type": "error",
     "traceback": [
      "\u001b[0;31m---------------------------------------------------------------------------\u001b[0m",
      "\u001b[0;31mNameError\u001b[0m                                 Traceback (most recent call last)",
      "Cell \u001b[0;32mIn[5], line 1\u001b[0m\n\u001b[0;32m----> 1\u001b[0m (x\u001b[38;5;241m+\u001b[39m\u001b[38;5;241m1\u001b[39m)\u001b[38;5;241m*\u001b[39m(x\u001b[38;5;241m-\u001b[39m\u001b[38;5;241m1\u001b[39m)\n",
      "\u001b[0;31mNameError\u001b[0m: name 'x' is not defined"
     ]
    }
   ],
   "source": [
    "(x+1)*(x-1)"
   ]
  },
  {
   "cell_type": "code",
   "execution_count": 7,
   "id": "86d2566d-080a-4f39-ad22-2b57f3f4d467",
   "metadata": {
    "tags": []
   },
   "outputs": [
    {
     "name": "stdout",
     "output_type": "stream",
     "text": [
      "44\n"
     ]
    }
   ],
   "source": [
    "h=(k+2)*3+\\\n",
    "3+(k+7)\n",
    "print(h)"
   ]
  },
  {
   "cell_type": "markdown",
   "id": "12c691d6-faea-4d2c-95d3-16584e719484",
   "metadata": {},
   "source": [
    "Упражнение 2"
   ]
  },
  {
   "cell_type": "code",
   "execution_count": 12,
   "id": "ad2e8ebc-08fc-42bc-ab1f-b4082cfaf6b8",
   "metadata": {
    "tags": []
   },
   "outputs": [
    {
     "data": {
      "text/plain": [
       "66"
      ]
     },
     "execution_count": 12,
     "metadata": {},
     "output_type": "execute_result"
    }
   ],
   "source": [
    "a = -1\n",
    "b = 3\n",
    "c = 2\n",
    "(a+2)*(b-1)+c**(2*b)"
   ]
  },
  {
   "cell_type": "raw",
   "id": "479685fd-ddb3-40ae-afd5-9e615945b3b1",
   "metadata": {},
   "source": [
    "Упражнение 3"
   ]
  },
  {
   "cell_type": "code",
   "execution_count": 13,
   "id": "b4ce06cd-e2a7-48f8-b876-7e2388b47377",
   "metadata": {
    "tags": []
   },
   "outputs": [
    {
     "name": "stdout",
     "output_type": "stream",
     "text": [
      "6.300000000000001\n",
      "False\n"
     ]
    }
   ],
   "source": [
    "a = 4.2\n",
    "b = 2.1\n",
    "print(a + b)\n",
    "print(a + b == 6.3)"
   ]
  },
  {
   "cell_type": "markdown",
   "id": "93ba38d5-861d-4df0-a879-6c47ab6b0c41",
   "metadata": {},
   "source": [
    "Упражнение 4"
   ]
  },
  {
   "cell_type": "code",
   "execution_count": 21,
   "id": "db62eb4c-f687-418e-ab5a-0b60b67c29fa",
   "metadata": {
    "tags": []
   },
   "outputs": [
    {
     "name": "stdout",
     "output_type": "stream",
     "text": [
      " 0.190\n",
      "16.062\n",
      " 4.923\n"
     ]
    }
   ],
   "source": [
    "x = 1/3 - 1/7\n",
    "y = 2**4 + 2**(-4)\n",
    "z = (3 + 0.2)/(1 - 0.35)\n",
    "print(format(x, '>6.3f'))\n",
    "print(format(y, '>6.3f'))\n",
    "print(format(z, '>6.3f'))"
   ]
  },
  {
   "cell_type": "markdown",
   "id": "5b2ce60b-49db-485c-beeb-ef5f7c29246a",
   "metadata": {},
   "source": [
    "Упражнение 5"
   ]
  },
  {
   "cell_type": "code",
   "execution_count": 22,
   "id": "74602ea0-f7ad-4f97-9392-c411b4a4f23c",
   "metadata": {
    "tags": []
   },
   "outputs": [
    {
     "name": "stdout",
     "output_type": "stream",
     "text": [
      "Variable   Type     Data/Info\n",
      "-----------------------------\n",
      "a          float    4.2\n",
      "b          float    2.1\n",
      "c          int      2\n",
      "h          int      44\n",
      "k          int      7\n",
      "x          float    0.19047619047619047\n",
      "y          float    16.0625\n",
      "z          float    4.923076923076923\n"
     ]
    }
   ],
   "source": [
    "%whos"
   ]
  },
  {
   "cell_type": "code",
   "execution_count": 23,
   "id": "5832cab6-50f5-4ccc-ac3a-d6c240af4888",
   "metadata": {
    "tags": []
   },
   "outputs": [],
   "source": [
    "del(h)"
   ]
  },
  {
   "cell_type": "code",
   "execution_count": 24,
   "id": "ebfd2ab5-738e-4148-b565-295cc5b76119",
   "metadata": {
    "tags": []
   },
   "outputs": [
    {
     "name": "stdout",
     "output_type": "stream",
     "text": [
      "Variable   Type     Data/Info\n",
      "-----------------------------\n",
      "a          float    4.2\n",
      "b          float    2.1\n",
      "c          int      2\n",
      "k          int      7\n",
      "x          float    0.19047619047619047\n",
      "y          float    16.0625\n",
      "z          float    4.923076923076923\n"
     ]
    }
   ],
   "source": [
    "%whos"
   ]
  },
  {
   "cell_type": "code",
   "execution_count": 25,
   "id": "1bd23ee4-be8d-4df9-8e1a-95b831619886",
   "metadata": {
    "tags": []
   },
   "outputs": [
    {
     "name": "stdin",
     "output_type": "stream",
     "text": [
      "Once deleted, variables cannot be recovered. Proceed (y/[n])?  y\n"
     ]
    }
   ],
   "source": [
    "%reset"
   ]
  },
  {
   "cell_type": "code",
   "execution_count": 26,
   "id": "06ee28f5-e8da-4cf9-b79b-3accbaf94d3f",
   "metadata": {
    "tags": []
   },
   "outputs": [
    {
     "name": "stdout",
     "output_type": "stream",
     "text": [
      "Interactive namespace is empty.\n"
     ]
    }
   ],
   "source": [
    "%whos"
   ]
  },
  {
   "cell_type": "code",
   "execution_count": 27,
   "id": "826ef3de-45ed-47ba-abde-58bdcff11c91",
   "metadata": {
    "tags": []
   },
   "outputs": [],
   "source": [
    "x, y, z, t = 1, 2, 3, 4"
   ]
  },
  {
   "cell_type": "code",
   "execution_count": 28,
   "id": "5f2780d5-31a6-41ea-a337-e3986d6a6d96",
   "metadata": {
    "tags": []
   },
   "outputs": [
    {
     "name": "stdout",
     "output_type": "stream",
     "text": [
      "Variable   Type    Data/Info\n",
      "----------------------------\n",
      "t          int     4\n",
      "x          int     1\n",
      "y          int     2\n",
      "z          int     3\n"
     ]
    }
   ],
   "source": [
    "%whos"
   ]
  },
  {
   "cell_type": "code",
   "execution_count": 31,
   "id": "feaa5d0a-aa9e-4061-a533-7806a378b57e",
   "metadata": {
    "tags": []
   },
   "outputs": [],
   "source": [
    "del(x)"
   ]
  },
  {
   "cell_type": "code",
   "execution_count": 32,
   "id": "65a451a1-10d7-40eb-b2ff-5549e2e5a758",
   "metadata": {
    "tags": []
   },
   "outputs": [
    {
     "name": "stdout",
     "output_type": "stream",
     "text": [
      "Variable   Type    Data/Info\n",
      "----------------------------\n",
      "t          int     4\n",
      "y          int     2\n",
      "z          int     3\n"
     ]
    }
   ],
   "source": [
    "%whos"
   ]
  },
  {
   "cell_type": "markdown",
   "id": "aba7076d-086d-4dd2-a8ac-403701afd1e5",
   "metadata": {},
   "source": [
    "Упражнение 6"
   ]
  },
  {
   "cell_type": "code",
   "execution_count": 33,
   "id": "6ca094c1-6646-432a-a09b-4d2626a1ae2e",
   "metadata": {
    "tags": []
   },
   "outputs": [
    {
     "name": "stdout",
     "output_type": "stream",
     "text": [
      "3.141592653589793\n",
      "2.718281828459045\n"
     ]
    }
   ],
   "source": [
    "from math import pi, e\n",
    "\n",
    "print(pi)\n",
    "print(e)"
   ]
  },
  {
   "cell_type": "markdown",
   "id": "cd3dcb58-4312-4897-bc8b-95c1409f3d82",
   "metadata": {},
   "source": [
    "Упражнение 7"
   ]
  },
  {
   "cell_type": "code",
   "execution_count": 36,
   "id": "5db4ff5b-a974-4980-b0da-ca7d7f4e23ec",
   "metadata": {
    "tags": []
   },
   "outputs": [
    {
     "name": "stdout",
     "output_type": "stream",
     "text": [
      "2.8951125538319022\n",
      "1.0\n"
     ]
    }
   ],
   "source": [
    "from math import log, exp, sin, cos, pow, sqrt\n",
    "\n",
    "print(log(exp(3) - 2))\n",
    "print(sqrt(pow(sin(1), 2) + pow(cos(1), 2)))"
   ]
  },
  {
   "cell_type": "code",
   "execution_count": null,
   "id": "d3c2163d-22f5-45cf-b220-38d0a9c1af6f",
   "metadata": {},
   "outputs": [],
   "source": []
  }
 ],
 "metadata": {
  "kernelspec": {
   "display_name": "Python 3 (ipykernel)",
   "language": "python",
   "name": "python3"
  },
  "language_info": {
   "codemirror_mode": {
    "name": "ipython",
    "version": 3
   },
   "file_extension": ".py",
   "mimetype": "text/x-python",
   "name": "python",
   "nbconvert_exporter": "python",
   "pygments_lexer": "ipython3",
   "version": "3.11.5"
  }
 },
 "nbformat": 4,
 "nbformat_minor": 5
}
