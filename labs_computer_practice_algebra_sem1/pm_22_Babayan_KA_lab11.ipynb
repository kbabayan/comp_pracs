{
 "cells": [
  {
   "cell_type": "markdown",
   "id": "a0187dc6-fcc6-4c4c-bdda-7355ff0fd1bb",
   "metadata": {},
   "source": [
    "Лабораторная работа номер 11"
   ]
  },
  {
   "cell_type": "code",
   "execution_count": 2,
   "id": "f9cc7930-1c6e-4429-9af6-90958d74645e",
   "metadata": {
    "tags": []
   },
   "outputs": [],
   "source": [
    "import numpy as np\n",
    "from sympy import *"
   ]
  },
  {
   "cell_type": "markdown",
   "id": "100bb96b-f9b3-4bd1-91d1-40927ed8a081",
   "metadata": {},
   "source": [
    "Упражнение 1"
   ]
  },
  {
   "cell_type": "code",
   "execution_count": 4,
   "id": "cb0b2b4f-a68e-4fcf-acc6-8101bfde144b",
   "metadata": {
    "tags": []
   },
   "outputs": [
    {
     "name": "stdout",
     "output_type": "stream",
     "text": [
      "Проверка совместности: [2, 2, 3]\n",
      "СЛАУ является неопределённой(имеет бесконечное количество решений)\n"
     ]
    }
   ],
   "source": [
    "# 1\n",
    "A = np.array([[1, 2, 3], [1, -3, 2], [2, 4, 6]])\n",
    "B = np.array([7,5,14])\n",
    "#Исследуем систему на совместность\n",
    "D = np.column_stack((A,B)) # добавляем к матрице А столбец В\n",
    "n=3\n",
    "rkA=np.linalg.matrix_rank(A)\n",
    "rkD=np.linalg.matrix_rank(D)\n",
    "print('Проверка совместности:',[rkA,rkD,n])\n",
    "print(\"СЛАУ является неопределённой(имеет бесконечное количество решений)\")"
   ]
  },
  {
   "cell_type": "code",
   "execution_count": 19,
   "id": "755d1d9c-6596-4f35-9083-1f587e875f5a",
   "metadata": {
    "tags": []
   },
   "outputs": [
    {
     "name": "stdout",
     "output_type": "stream",
     "text": [
      "Проверка совместности: [4, 4, 4]\n",
      "[-3.00000000e+00 -3.92848147e-16  2.00000000e+00 -1.00000000e+00]\n",
      "Проверка True\n"
     ]
    }
   ],
   "source": [
    "# 2\n",
    "A = np.array([[3, -2, 1, 1], [5, 1, 2, 0], [-1, 1, -1, 1], [2,-1,6,-3]])\n",
    "B = np.array([-8,-11,0,9])\n",
    "#Исследуем систему на совместность\n",
    "D = np.column_stack((A,B)) # добавляем к матрице А столбец В\n",
    "n=4\n",
    "rkA=np.linalg.matrix_rank(A)\n",
    "rkD=np.linalg.matrix_rank(D)\n",
    "print('Проверка совместности:',[rkA,rkD,n])\n",
    "# Метод solve\n",
    "X = np.linalg.solve(A,B)\n",
    "print(X)\n",
    "# Проверка\n",
    "check_result = np.allclose(np.dot(A, X), B)\n",
    "print('Проверка', check_result)"
   ]
  },
  {
   "cell_type": "code",
   "execution_count": 7,
   "id": "2d88cbb5-1983-47f4-9d54-838ce376c8d4",
   "metadata": {
    "tags": []
   },
   "outputs": [
    {
     "name": "stdout",
     "output_type": "stream",
     "text": [
      "Проверка совместности: [3, 4, 4]\n",
      "СЛАУ несовместна (не имеет решений)\n"
     ]
    }
   ],
   "source": [
    "# 3\n",
    "A = np.array([[3, -2, 1, 1], [5, 1, 2, 0], [9, -6, 3, 3], [2,-1,6,-3]])\n",
    "B = np.array([-8,-11,0,9])\n",
    "#Исследуем систему на совместность\n",
    "D = np.column_stack((A,B)) # добавляем к матрице А столбец В\n",
    "n=4\n",
    "rkA=np.linalg.matrix_rank(A)\n",
    "rkD=np.linalg.matrix_rank(D)\n",
    "print('Проверка совместности:',[rkA,rkD,n])\n",
    "print(\"СЛАУ несовместна (не имеет решений)\")"
   ]
  },
  {
   "cell_type": "code",
   "execution_count": 8,
   "id": "432a4879-ce2d-4414-9a6b-9fa89d54dcca",
   "metadata": {
    "tags": []
   },
   "outputs": [
    {
     "name": "stdout",
     "output_type": "stream",
     "text": [
      "Проверка совместности: [2, 2, 4]\n",
      "СЛАУ является неопределённой (имеет бесконечное количество решений)\n"
     ]
    }
   ],
   "source": [
    "# 4\n",
    "A = np.array([[2, 1, -1, -3], [4, 0, 1, -7], [0, 2, -3, 1], [2, 3, -4, -2]])\n",
    "B = np.array([2,3,1,3])\n",
    "#Исследуем систему на совместность\n",
    "D = np.column_stack((A,B)) # добавляем к матрице А столбец В\n",
    "n=4\n",
    "rkA=np.linalg.matrix_rank(A)\n",
    "rkD=np.linalg.matrix_rank(D)\n",
    "print('Проверка совместности:',[rkA,rkD,n])\n",
    "print(\"СЛАУ является неопределённой (имеет бесконечное количество решений)\")"
   ]
  },
  {
   "cell_type": "markdown",
   "id": "50c6a788-2beb-4580-a376-12a19a5d6ec4",
   "metadata": {},
   "source": [
    "Упражнение 2"
   ]
  },
  {
   "cell_type": "code",
   "execution_count": 22,
   "id": "bbc30dfa-6dd3-496e-8048-3309ffdf6b73",
   "metadata": {
    "tags": []
   },
   "outputs": [
    {
     "name": "stdout",
     "output_type": "stream",
     "text": [
      "(Matrix([\n",
      "[1, 0, 0, 0],\n",
      "[0, 1, 0, 0],\n",
      "[0, 0, 1, 0],\n",
      "[0, 0, 0, 1]]), (0, 1, 2, 3))\n",
      "{(-3, 0, 2, -1)}\n"
     ]
    },
    {
     "data": {
      "text/plain": [
       "True"
      ]
     },
     "execution_count": 22,
     "metadata": {},
     "output_type": "execute_result"
    }
   ],
   "source": [
    "# 1\n",
    "A = Matrix([[3,-2,1,1], [5,1,2,0], [-1,1,-1,1],[2,-1,6,-3]])\n",
    "RA = A.rref()\n",
    "print(RA)\n",
    "\n",
    "x1, x2, x3, x4 = symbols('x1 x2 x3 x4')\n",
    "B = Matrix([-8,-11,0,9])\n",
    "X=linsolve((A,B),x1,x2,x3,x4)\n",
    "print(X)\n",
    "\n",
    "X=Matrix([[-3],[0],[2],[-1]])\n",
    "A*X==B"
   ]
  },
  {
   "cell_type": "code",
   "execution_count": 24,
   "id": "ccc286c2-ac82-4d13-a464-6619dfc76924",
   "metadata": {
    "tags": []
   },
   "outputs": [
    {
     "name": "stdout",
     "output_type": "stream",
     "text": [
      "(Matrix([\n",
      "[1, 0,  1/4,  7/8, 0],\n",
      "[0, 1, -1/2, -1/4, 0],\n",
      "[0, 0,    0,    0, 0],\n",
      "[0, 0,    0,    0, 0],\n",
      "[0, 0,    0,    0, 0]]), (0, 1))\n",
      "{(-C1/4 - 7*C2/8 - 3/8, C1/2 + C2/4 + 1/4, C1, C2)}\n"
     ]
    },
    {
     "data": {
      "text/plain": [
       "True"
      ]
     },
     "execution_count": 24,
     "metadata": {},
     "output_type": "execute_result"
    }
   ],
   "source": [
    "# 2\n",
    "A = Matrix([[2,3,-1,1,0], [2,7,-3,0,0],[0,4,-2,-1,0],[2,-1,1,2,0],[4,10,-4,1,0]])\n",
    "RA = A.rref()\n",
    "print(RA)\n",
    "\n",
    "x1, x2, x3, x4 = symbols('x1 x2 C1 C2')\n",
    "B = Matrix([0,1,1,-1,1])\n",
    "X=linsolve((A,B),x1,x2,x3,x4)\n",
    "print(X)\n",
    "\n",
    "X=Matrix([[-x3/4 - 7*x4/8 - 3/8],[x3/2 + x4/4 + 1/4],[x3],[x4],[0]])\n",
    "A*X==B"
   ]
  },
  {
   "cell_type": "code",
   "execution_count": 25,
   "id": "2881d4fc-c46e-4ad5-9764-20997d131e7b",
   "metadata": {
    "tags": []
   },
   "outputs": [
    {
     "name": "stdout",
     "output_type": "stream",
     "text": [
      "(Matrix([\n",
      "[1, 0, 0],\n",
      "[0, 1, 0],\n",
      "[0, 0, 1],\n",
      "[0, 0, 0],\n",
      "[0, 0, 0]]), (0, 1, 2))\n",
      "{(1, 2, 1)}\n",
      "3\n"
     ]
    }
   ],
   "source": [
    "# 3\n",
    "A = Matrix([[2,-1,3], [3,1,-5],[4,-1,1],[1,3,-13],[1,2,-8]])\n",
    "A_np = np.array([[2,-1,3], [3,1,-5],[4,-1,1],[1,3,-13],[1,2,-8]])\n",
    "RA = A.rref()\n",
    "print(RA)\n",
    "\n",
    "x1, x2, x3 = symbols('x1 x2 x3')\n",
    "B = Matrix([3,0,3,-6,-3])\n",
    "X=linsolve((A,B),x1,x2,x3)\n",
    "print(X)\n",
    "X=Matrix([[1],[2],[1]])\n",
    "\n",
    "A*X==B\n",
    "rkA=np.linalg.matrix_rank(A_np)\n",
    "print(rkA)"
   ]
  },
  {
   "cell_type": "code",
   "execution_count": 26,
   "id": "2bcd0f21-27ae-4f6c-a142-bc581c008c2d",
   "metadata": {
    "tags": []
   },
   "outputs": [
    {
     "name": "stdout",
     "output_type": "stream",
     "text": [
      "(Matrix([\n",
      "[1, 0, 4/5],\n",
      "[0, 1, 1/5],\n",
      "[0, 0,   0]]), (0, 1))\n",
      "{(8/5 - 4*C1/5, 2/5 - C1/5, C1)}\n"
     ]
    },
    {
     "data": {
      "text/plain": [
       "True"
      ]
     },
     "execution_count": 26,
     "metadata": {},
     "output_type": "execute_result"
    }
   ],
   "source": [
    "# 4\n",
    "A = Matrix([[2,-3,1], [1,1,1],[-4,6,-2]])\n",
    "RA = A.rref()\n",
    "print(RA)\n",
    "\n",
    "x1, x2, x3 = symbols('x1 x2 C1')\n",
    "B = Matrix([2,2,-4])\n",
    "X=linsolve((A,B),x1,x2,x3)\n",
    "print(X)\n",
    "\n",
    "X=Matrix([[8/5-4*x3/5],[2/5-x3/5],[x3]])\n",
    "A*X==B"
   ]
  },
  {
   "cell_type": "code",
   "execution_count": 27,
   "id": "e879e7a4-8331-4a3c-928f-e72c48808a0b",
   "metadata": {
    "tags": []
   },
   "outputs": [
    {
     "name": "stdout",
     "output_type": "stream",
     "text": [
      "(Matrix([\n",
      "[1, 0,  1/4, 0],\n",
      "[0, 1, -3/2, 0],\n",
      "[0, 0,    0, 1],\n",
      "[0, 0,    0, 0]]), (0, 1, 3))\n",
      "{(3/4 - x3/4, 3*x3/2 + 1/2, x3, 0)}\n"
     ]
    },
    {
     "data": {
      "text/plain": [
       "True"
      ]
     },
     "execution_count": 27,
     "metadata": {},
     "output_type": "execute_result"
    }
   ],
   "source": [
    "# 5\n",
    "A = Matrix([[2,1,-1,3], [4,0,1,-7],[0,2,-3,1],[2,3,-4,-2]])\n",
    "RA = A.rref()\n",
    "print(RA)\n",
    "\n",
    "x1, x2, x3,x4 = symbols('x1 x2 x3 C1')\n",
    "B = Matrix([2,3,1,3])\n",
    "X=linsolve((A,B),x1,x2,x3,x4)\n",
    "print(X)\n",
    "X=Matrix([[3/4 - x3/4],[3*x3/2 + 1/2],[x3],[0]])\n",
    "A*X==B"
   ]
  },
  {
   "cell_type": "markdown",
   "id": "ab707cb9-17c4-4bb5-8644-225a0e661e48",
   "metadata": {},
   "source": [
    "Упражнение 3"
   ]
  },
  {
   "cell_type": "code",
   "execution_count": 41,
   "id": "66cf4f0d-b819-4ee5-9e76-3bec8a690e3f",
   "metadata": {
    "tags": []
   },
   "outputs": [
    {
     "name": "stdout",
     "output_type": "stream",
     "text": [
      "Ранг:  2\n",
      "Фундаментальная система решений:\n",
      " [Matrix([\n",
      "[-4/5],\n",
      "[-1/5],\n",
      "[   1]])]\n",
      "Общее решение системы:\n",
      "Matrix([[-4*C1/5], [-C1/5], [C1]])\n",
      "Проверка:\n",
      " [2, 2, 3]\n",
      "Решение: [0. 0. 0.]\n",
      "\n",
      "(Matrix([\n",
      "[1, 0, 4/5],\n",
      "[0, 1, 1/5],\n",
      "[0, 0,   0]]), (0, 1))\n",
      "{(-4*C1/5, -C1/5, C1)}\n"
     ]
    }
   ],
   "source": [
    "# 1\n",
    "A = Matrix([[2,-3,1],[1,1,1],[3,-2,2]])\n",
    "print('Ранг: ',A.rank())\n",
    "E = A.nullspace()\n",
    "print('Фундаментальная система решений:\\n',E)\n",
    "C1 = symbols('C1')\n",
    "print('Общее решение системы:')\n",
    "print(C1*E[0])\n",
    "\n",
    "A = np.array([[2,-3,1],[1,1,1],[3,-2,2]])\n",
    "B = np.array([0,0,0])\n",
    "D = np.column_stack((A,B))\n",
    "n = 3\n",
    "rkA = np.linalg.matrix_rank(A)\n",
    "rkD = np.linalg.matrix_rank(D)\n",
    "print('Проверка:\\n',[rkA,rkD,n])\n",
    "X1 = np.linalg.inv(A).dot(B)\n",
    "print('Решение:',X1)\n",
    "print()\n",
    "\n",
    "A = Matrix([[2,-3,1],[1,1,1],[3,-2,2]])\n",
    "RA = A.rref()\n",
    "print(RA)\n",
    "x1, x2, x3 = symbols('x1 x2 C1')\n",
    "B = Matrix([0,0,0])\n",
    "X=linsolve((A,B),x1,x2,x3)\n",
    "print(X)"
   ]
  },
  {
   "cell_type": "code",
   "execution_count": 43,
   "id": "6ccba89a-2e44-4764-830d-8587622145c1",
   "metadata": {
    "tags": []
   },
   "outputs": [
    {
     "name": "stdout",
     "output_type": "stream",
     "text": [
      "Ранг:  4\n",
      "Фундаментальная система решений:\n",
      " []\n",
      "Проверка: [4, 4, 4]\n",
      "Решение: [0. 0. 0. 0.]\n",
      "\n",
      "(Matrix([\n",
      "[1, 0, 0, 0],\n",
      "[0, 1, 0, 0],\n",
      "[0, 0, 1, 0],\n",
      "[0, 0, 0, 1]]), (0, 1, 2, 3))\n",
      "{(0, 0, 0, 0)}\n"
     ]
    }
   ],
   "source": [
    "# 2\n",
    "A = Matrix([[1,2,4,-3],[3,5,6,-1],[4,4,-2,3],[3,8,24,-19]])\n",
    "print('Ранг: ',A.rank())\n",
    "E = A.nullspace()\n",
    "print('Фундаментальная система решений:\\n',E)\n",
    "\n",
    "A = np.array([[1,2,4,-3],[3,5,6,-1],[4,4,-2,3],[3,8,24,-19]])\n",
    "B = np.array([0,0,0,0])\n",
    "D = np.column_stack((A,B))\n",
    "n = 4\n",
    "rkA = np.linalg.matrix_rank(A)\n",
    "rkD = np.linalg.matrix_rank(D)\n",
    "print('Проверка:',[rkA,rkD,n])\n",
    "X1 = np.linalg.inv(A).dot(B)\n",
    "print('Решение:',X1)\n",
    "print()\n",
    "\n",
    "A =  Matrix([[1,2,4,-3],[3,5,6,-1],[4,4,-2,3],[3,8,24,-19]])\n",
    "RA = A.rref()\n",
    "print(RA)\n",
    "x1, x2, x3, x4 = symbols('x1 x2 x3 x4')\n",
    "B = Matrix([0,0,0, 0])\n",
    "X=linsolve((A,B),x1,x2,x3, x4)\n",
    "print(X)"
   ]
  },
  {
   "cell_type": "code",
   "execution_count": 46,
   "id": "eb30139d-00f8-4576-a439-714958434eea",
   "metadata": {
    "tags": []
   },
   "outputs": [
    {
     "name": "stdout",
     "output_type": "stream",
     "text": [
      "Ранг:  3\n",
      "Фундаментальная система решений:\n",
      " [Matrix([\n",
      "[ 1],\n",
      "[ 1],\n",
      "[-1],\n",
      "[ 1],\n",
      "[ 0],\n",
      "[ 0]]), Matrix([\n",
      "[-1],\n",
      "[ 0],\n",
      "[ 0],\n",
      "[ 0],\n",
      "[ 1],\n",
      "[ 0]]), Matrix([\n",
      "[ 0],\n",
      "[-1],\n",
      "[ 0],\n",
      "[ 0],\n",
      "[ 0],\n",
      "[ 1]])]\n",
      "Общее решение системы:\n",
      " Matrix([[C1 - C2], [C1 - C3], [-C1], [C1], [C2], [C3]])\n",
      "Проверка: [3, 3, 6]\n",
      "\n",
      "(Matrix([\n",
      "[1, 0, 0, -1, 1, 0],\n",
      "[0, 1, 0, -1, 0, 1],\n",
      "[0, 0, 1,  1, 0, 0],\n",
      "[0, 0, 0,  0, 0, 0],\n",
      "[0, 0, 0,  0, 0, 0]]), (0, 1, 2))\n",
      "{(C1 - C2, C1 - C3, -C1, C1, C2, C3)}\n"
     ]
    }
   ],
   "source": [
    "# 3\n",
    "A = Matrix([[1,0,1,0,1,0],[0,1,0,-1,0,1],[1,-1,0,0,1,-1],[0,1,1,0,0,1],[1,0,0,-1,1,0]])\n",
    "print('Ранг: ',A.rank())\n",
    "E = A.nullspace()\n",
    "print('Фундаментальная система решений:\\n',E)\n",
    "C1,C2,C3 = symbols('C1 C2 C3')\n",
    "print('Общее решение системы:\\n',C1*E[0]+C2*E[1]+C3*E[2])\n",
    "\n",
    "A = np.array([[1,0,1,0,1,0],[0,1,0,-1,0,1],[1,-1,0,0,1,-1],[0,1,1,0,0,1],[1,0,0,-1,1,0]])\n",
    "B = np.array([0,0,0,0,0])\n",
    "D = np.column_stack((A,B))\n",
    "n = 6\n",
    "rkA = np.linalg.matrix_rank(A)\n",
    "rkD = np.linalg.matrix_rank(D)\n",
    "print('Проверка:',[rkA,rkD,n])\n",
    "print()\n",
    "\n",
    "A = Matrix([[1,0,1,0,1,0],[0,1,0,-1,0,1],[1,-1,0,0,1,-1],[0,1,1,0,0,1],[1,0,0,-1,1,0]])\n",
    "RA = A.rref()\n",
    "print(RA)\n",
    "x1, x2, x3, x4, x5, x6 = symbols('x1 x2 x3 C1 C2 C3')\n",
    "B = Matrix([0,0,0,0,0])\n",
    "X=linsolve((A,B),x1,x2,x3, x4, x5, x6)\n",
    "print(X)"
   ]
  },
  {
   "cell_type": "code",
   "execution_count": null,
   "id": "d967122f-7bf2-4187-95d9-d894ef00e4d3",
   "metadata": {},
   "outputs": [],
   "source": []
  }
 ],
 "metadata": {
  "kernelspec": {
   "display_name": "Python 3 (ipykernel)",
   "language": "python",
   "name": "python3"
  },
  "language_info": {
   "codemirror_mode": {
    "name": "ipython",
    "version": 3
   },
   "file_extension": ".py",
   "mimetype": "text/x-python",
   "name": "python",
   "nbconvert_exporter": "python",
   "pygments_lexer": "ipython3",
   "version": "3.11.5"
  }
 },
 "nbformat": 4,
 "nbformat_minor": 5
}
