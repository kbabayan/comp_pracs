{
 "cells": [
  {
   "cell_type": "markdown",
   "id": "e97229ec-b90d-4220-9176-88e02b56d955",
   "metadata": {},
   "source": [
    "Лабораторная работа номер 3"
   ]
  },
  {
   "cell_type": "code",
   "execution_count": 1,
   "id": "34d70552-56d5-44f5-a4d2-caea4393bff1",
   "metadata": {
    "tags": []
   },
   "outputs": [],
   "source": [
    "import numpy as np\n",
    "import matplotlib.pyplot as plt\n",
    "import math\n",
    "from sympy import *"
   ]
  },
  {
   "cell_type": "code",
   "execution_count": 2,
   "id": "c88a7929-d190-43a8-bdd7-6ee63b520bff",
   "metadata": {
    "tags": []
   },
   "outputs": [
    {
     "name": "stdout",
     "output_type": "stream",
     "text": [
      "Help on function arrow in module matplotlib.pyplot:\n",
      "\n",
      "arrow(x, y, dx, dy, **kwargs)\n",
      "    Add an arrow to the Axes.\n",
      "    \n",
      "    This draws an arrow from ``(x, y)`` to ``(x+dx, y+dy)``.\n",
      "    \n",
      "    Parameters\n",
      "    ----------\n",
      "    x, y : float\n",
      "        The x and y coordinates of the arrow base.\n",
      "    \n",
      "    dx, dy : float\n",
      "        The length of the arrow along x and y direction.\n",
      "    \n",
      "    width : float, default: 0.001\n",
      "        Width of full arrow tail.\n",
      "    \n",
      "    length_includes_head : bool, default: False\n",
      "        True if head is to be counted in calculating the length.\n",
      "    \n",
      "    head_width : float or None, default: 3*width\n",
      "        Total width of the full arrow head.\n",
      "    \n",
      "    head_length : float or None, default: 1.5*head_width\n",
      "        Length of arrow head.\n",
      "    \n",
      "    shape : {'full', 'left', 'right'}, default: 'full'\n",
      "        Draw the left-half, right-half, or full arrow.\n",
      "    \n",
      "    overhang : float, default: 0\n",
      "        Fraction that the arrow is swept back (0 overhang means\n",
      "        triangular shape). Can be negative or greater than one.\n",
      "    \n",
      "    head_starts_at_zero : bool, default: False\n",
      "        If True, the head starts being drawn at coordinate 0\n",
      "        instead of ending at coordinate 0.\n",
      "    \n",
      "    **kwargs\n",
      "        `.Patch` properties:\n",
      "    \n",
      "        Properties:\n",
      "        agg_filter: a filter function, which takes a (m, n, 3) float array and a dpi value, and returns a (m, n, 3) array and two offsets from the bottom left corner of the image\n",
      "        alpha: unknown\n",
      "        animated: bool\n",
      "        antialiased or aa: bool or None\n",
      "        capstyle: `.CapStyle` or {'butt', 'projecting', 'round'}\n",
      "        clip_box: `.Bbox`\n",
      "        clip_on: bool\n",
      "        clip_path: Patch or (Path, Transform) or None\n",
      "        color: color\n",
      "        edgecolor or ec: color or None\n",
      "        facecolor or fc: color or None\n",
      "        figure: `.Figure`\n",
      "        fill: bool\n",
      "        gid: str\n",
      "        hatch: {'/', '\\\\', '|', '-', '+', 'x', 'o', 'O', '.', '*'}\n",
      "        in_layout: bool\n",
      "        joinstyle: `.JoinStyle` or {'miter', 'round', 'bevel'}\n",
      "        label: object\n",
      "        linestyle or ls: {'-', '--', '-.', ':', '', (offset, on-off-seq), ...}\n",
      "        linewidth or lw: float or None\n",
      "        mouseover: bool\n",
      "        path_effects: `.AbstractPathEffect`\n",
      "        picker: None or bool or float or callable\n",
      "        rasterized: bool\n",
      "        sketch_params: (scale: float, length: float, randomness: float)\n",
      "        snap: bool or None\n",
      "        transform: `.Transform`\n",
      "        url: str\n",
      "        visible: bool\n",
      "        zorder: float\n",
      "    \n",
      "    Returns\n",
      "    -------\n",
      "    `.FancyArrow`\n",
      "        The created `.FancyArrow` object.\n",
      "    \n",
      "    Notes\n",
      "    -----\n",
      "    The resulting arrow is affected by the Axes aspect ratio and limits.\n",
      "    This may produce an arrow whose head is not square with its stem. To\n",
      "    create an arrow whose head is square with its stem,\n",
      "    use :meth:`annotate` for example:\n",
      "    \n",
      "    >>> ax.annotate(\"\", xy=(0.5, 0.5), xytext=(0, 0),\n",
      "    ...             arrowprops=dict(arrowstyle=\"->\"))\n",
      "\n"
     ]
    }
   ],
   "source": [
    "help(plt.arrow)"
   ]
  },
  {
   "cell_type": "code",
   "execution_count": 3,
   "id": "7beebf07-fb45-4594-a865-796eecd6d391",
   "metadata": {
    "tags": []
   },
   "outputs": [
    {
     "name": "stdout",
     "output_type": "stream",
     "text": [
      "Help on function quiver in module matplotlib.pyplot:\n",
      "\n",
      "quiver(*args, data=None, **kwargs)\n",
      "    Plot a 2D field of arrows.\n",
      "    \n",
      "    Call signature::\n",
      "    \n",
      "      quiver([X, Y], U, V, [C], **kwargs)\n",
      "    \n",
      "    *X*, *Y* define the arrow locations, *U*, *V* define the arrow directions, and\n",
      "    *C* optionally sets the color.\n",
      "    \n",
      "    **Arrow length**\n",
      "    \n",
      "    The default settings auto-scales the length of the arrows to a reasonable size.\n",
      "    To change this behavior see the *scale* and *scale_units* parameters.\n",
      "    \n",
      "    **Arrow shape**\n",
      "    \n",
      "    The arrow shape is determined by *width*, *headwidth*, *headlength* and\n",
      "    *headaxislength*. See the notes below.\n",
      "    \n",
      "    **Arrow styling**\n",
      "    \n",
      "    Each arrow is internally represented by a filled polygon with a default edge\n",
      "    linewidth of 0. As a result, an arrow is rather a filled area, not a line with\n",
      "    a head, and `.PolyCollection` properties like *linewidth*, *edgecolor*,\n",
      "    *facecolor*, etc. act accordingly.\n",
      "    \n",
      "    \n",
      "    Parameters\n",
      "    ----------\n",
      "    X, Y : 1D or 2D array-like, optional\n",
      "        The x and y coordinates of the arrow locations.\n",
      "    \n",
      "        If not given, they will be generated as a uniform integer meshgrid based\n",
      "        on the dimensions of *U* and *V*.\n",
      "    \n",
      "        If *X* and *Y* are 1D but *U*, *V* are 2D, *X*, *Y* are expanded to 2D\n",
      "        using ``X, Y = np.meshgrid(X, Y)``. In this case ``len(X)`` and ``len(Y)``\n",
      "        must match the column and row dimensions of *U* and *V*.\n",
      "    \n",
      "    U, V : 1D or 2D array-like\n",
      "        The x and y direction components of the arrow vectors. The interpretation\n",
      "        of these components (in data or in screen space) depends on *angles*.\n",
      "    \n",
      "        *U* and *V* must have the same number of elements, matching the number of\n",
      "        arrow locations in  *X*, *Y*. *U* and *V* may be masked. Locations masked\n",
      "        in any of *U*, *V*, and *C* will not be drawn.\n",
      "    \n",
      "    C : 1D or 2D array-like, optional\n",
      "        Numeric data that defines the arrow colors by colormapping via *norm* and\n",
      "        *cmap*.\n",
      "    \n",
      "        This does not support explicit colors. If you want to set colors directly,\n",
      "        use *color* instead.  The size of *C* must match the number of arrow\n",
      "        locations.\n",
      "    \n",
      "    angles : {'uv', 'xy'} or array-like, default: 'uv'\n",
      "        Method for determining the angle of the arrows.\n",
      "    \n",
      "        - 'uv': Arrow direction in screen coordinates. Use this if the arrows\n",
      "          symbolize a quantity that is not based on *X*, *Y* data coordinates.\n",
      "    \n",
      "          If *U* == *V* the orientation of the arrow on the plot is 45 degrees\n",
      "          counter-clockwise from the  horizontal axis (positive to the right).\n",
      "    \n",
      "        - 'xy': Arrow direction in data coordinates, i.e. the arrows point from\n",
      "          (x, y) to (x+u, y+v). Use this e.g. for plotting a gradient field.\n",
      "    \n",
      "        - Arbitrary angles may be specified explicitly as an array of values\n",
      "          in degrees, counter-clockwise from the horizontal axis.\n",
      "    \n",
      "          In this case *U*, *V* is only used to determine the length of the\n",
      "          arrows.\n",
      "    \n",
      "        Note: inverting a data axis will correspondingly invert the\n",
      "        arrows only with ``angles='xy'``.\n",
      "    \n",
      "    pivot : {'tail', 'mid', 'middle', 'tip'}, default: 'tail'\n",
      "        The part of the arrow that is anchored to the *X*, *Y* grid. The arrow\n",
      "        rotates about this point.\n",
      "    \n",
      "        'mid' is a synonym for 'middle'.\n",
      "    \n",
      "    scale : float, optional\n",
      "        Scales the length of the arrow inversely.\n",
      "    \n",
      "        Number of data units per arrow length unit, e.g., m/s per plot width; a\n",
      "        smaller scale parameter makes the arrow longer. Default is *None*.\n",
      "    \n",
      "        If *None*, a simple autoscaling algorithm is used, based on the average\n",
      "        vector length and the number of vectors. The arrow length unit is given by\n",
      "        the *scale_units* parameter.\n",
      "    \n",
      "    scale_units : {'width', 'height', 'dots', 'inches', 'x', 'y', 'xy'}, optional\n",
      "        If the *scale* kwarg is *None*, the arrow length unit. Default is *None*.\n",
      "    \n",
      "        e.g. *scale_units* is 'inches', *scale* is 2.0, and ``(u, v) = (1, 0)``,\n",
      "        then the vector will be 0.5 inches long.\n",
      "    \n",
      "        If *scale_units* is 'width' or 'height', then the vector will be half the\n",
      "        width/height of the axes.\n",
      "    \n",
      "        If *scale_units* is 'x' then the vector will be 0.5 x-axis\n",
      "        units. To plot vectors in the x-y plane, with u and v having\n",
      "        the same units as x and y, use\n",
      "        ``angles='xy', scale_units='xy', scale=1``.\n",
      "    \n",
      "    units : {'width', 'height', 'dots', 'inches', 'x', 'y', 'xy'}, default: 'width'\n",
      "        Affects the arrow size (except for the length). In particular, the shaft\n",
      "        *width* is measured in multiples of this unit.\n",
      "    \n",
      "        Supported values are:\n",
      "    \n",
      "        - 'width', 'height': The width or height of the Axes.\n",
      "        - 'dots', 'inches': Pixels or inches based on the figure dpi.\n",
      "        - 'x', 'y', 'xy': *X*, *Y* or :math:`\\sqrt{X^2 + Y^2}` in data units.\n",
      "    \n",
      "        The following table summarizes how these values affect the visible arrow\n",
      "        size under zooming and figure size changes:\n",
      "    \n",
      "        =================  =================   ==================\n",
      "        units              zoom                figure size change\n",
      "        =================  =================   ==================\n",
      "        'x', 'y', 'xy'     arrow size scales   —\n",
      "        'width', 'height'  —                   arrow size scales\n",
      "        'dots', 'inches'   —                   —\n",
      "        =================  =================   ==================\n",
      "    \n",
      "    width : float, optional\n",
      "        Shaft width in arrow units. All head parameters are relative to *width*.\n",
      "    \n",
      "        The default depends on choice of *units* above, and number of vectors;\n",
      "        a typical starting value is about 0.005 times the width of the plot.\n",
      "    \n",
      "    headwidth : float, default: 3\n",
      "        Head width as multiple of shaft *width*. See the notes below.\n",
      "    \n",
      "    headlength : float, default: 5\n",
      "        Head length as multiple of shaft *width*. See the notes below.\n",
      "    \n",
      "    headaxislength : float, default: 4.5\n",
      "        Head length at shaft intersection as multiple of shaft *width*.\n",
      "        See the notes below.\n",
      "    \n",
      "    minshaft : float, default: 1\n",
      "        Length below which arrow scales, in units of head length. Do not\n",
      "        set this to less than 1, or small arrows will look terrible!\n",
      "    \n",
      "    minlength : float, default: 1\n",
      "        Minimum length as a multiple of shaft width; if an arrow length\n",
      "        is less than this, plot a dot (hexagon) of this diameter instead.\n",
      "    \n",
      "    color : color or color sequence, optional\n",
      "        Explicit color(s) for the arrows. If *C* has been set, *color* has no\n",
      "        effect.\n",
      "    \n",
      "        This is a synonym for the `.PolyCollection` *facecolor* parameter.\n",
      "    \n",
      "    Other Parameters\n",
      "    ----------------\n",
      "    data : indexable object, optional\n",
      "        If given, all parameters also accept a string ``s``, which is\n",
      "        interpreted as ``data[s]`` (unless this raises an exception).\n",
      "    \n",
      "    **kwargs : `~matplotlib.collections.PolyCollection` properties, optional\n",
      "        All other keyword arguments are passed on to `.PolyCollection`:\n",
      "    \n",
      "        Properties:\n",
      "        agg_filter: a filter function, which takes a (m, n, 3) float array and a dpi value, and returns a (m, n, 3) array and two offsets from the bottom left corner of the image\n",
      "        alpha: array-like or scalar or None\n",
      "        animated: bool\n",
      "        antialiased or aa or antialiaseds: bool or list of bools\n",
      "        array: array-like or None\n",
      "        capstyle: `.CapStyle` or {'butt', 'projecting', 'round'}\n",
      "        clim: (vmin: float, vmax: float)\n",
      "        clip_box: `.Bbox`\n",
      "        clip_on: bool\n",
      "        clip_path: Patch or (Path, Transform) or None\n",
      "        cmap: `.Colormap` or str or None\n",
      "        color: color or list of RGBA tuples\n",
      "        edgecolor or ec or edgecolors: color or list of colors or 'face'\n",
      "        facecolor or facecolors or fc: color or list of colors\n",
      "        figure: `.Figure`\n",
      "        gid: str\n",
      "        hatch: {'/', '\\\\', '|', '-', '+', 'x', 'o', 'O', '.', '*'}\n",
      "        in_layout: bool\n",
      "        joinstyle: `.JoinStyle` or {'miter', 'round', 'bevel'}\n",
      "        label: object\n",
      "        linestyle or dashes or linestyles or ls: str or tuple or list thereof\n",
      "        linewidth or linewidths or lw: float or list of floats\n",
      "        mouseover: bool\n",
      "        norm: `.Normalize` or str or None\n",
      "        offset_transform or transOffset: unknown\n",
      "        offsets: (N, 2) or (2,) array-like\n",
      "        path_effects: `.AbstractPathEffect`\n",
      "        paths: list of array-like\n",
      "        picker: None or bool or float or callable\n",
      "        pickradius: unknown\n",
      "        rasterized: bool\n",
      "        sizes: `numpy.ndarray` or None\n",
      "        sketch_params: (scale: float, length: float, randomness: float)\n",
      "        snap: bool or None\n",
      "        transform: `.Transform`\n",
      "        url: str\n",
      "        urls: list of str or None\n",
      "        verts: list of array-like\n",
      "        verts_and_codes: unknown\n",
      "        visible: bool\n",
      "        zorder: float\n",
      "    \n",
      "    Returns\n",
      "    -------\n",
      "    `~matplotlib.quiver.Quiver`\n",
      "    \n",
      "    See Also\n",
      "    --------\n",
      "    .Axes.quiverkey : Add a key to a quiver plot.\n",
      "    \n",
      "    Notes\n",
      "    -----\n",
      "    \n",
      "    **Arrow shape**\n",
      "    \n",
      "    The arrow is drawn as a polygon using the nodes as shown below. The values\n",
      "    *headwidth*, *headlength*, and *headaxislength* are in units of *width*.\n",
      "    \n",
      "    .. image:: /_static/quiver_sizes.svg\n",
      "       :width: 500px\n",
      "    \n",
      "    The defaults give a slightly swept-back arrow. Here are some guidelines how to\n",
      "    get other head shapes:\n",
      "    \n",
      "    - To make the head a triangle, make *headaxislength* the same as *headlength*.\n",
      "    - To make the arrow more pointed, reduce *headwidth* or increase *headlength*\n",
      "      and *headaxislength*.\n",
      "    - To make the head smaller relative to the shaft, scale down all the head\n",
      "      parameters proportionally.\n",
      "    - To remove the head completely, set all *head* parameters to 0.\n",
      "    - To get a diamond-shaped head, make *headaxislength* larger than *headlength*.\n",
      "    - Warning: For *headaxislength* < (*headlength* / *headwidth*), the \"headaxis\"\n",
      "      nodes (i.e. the ones connecting the head with the shaft) will protrude out\n",
      "      of the head in forward direction so that the arrow head looks broken.\n",
      "\n"
     ]
    }
   ],
   "source": [
    "help(plt.quiver)"
   ]
  },
  {
   "cell_type": "markdown",
   "id": "3c53992b-da6e-4c2d-9bfd-8b191a4df091",
   "metadata": {},
   "source": [
    "Упражнение 3.1"
   ]
  },
  {
   "cell_type": "code",
   "execution_count": 22,
   "id": "a2460fb0-f33a-4993-9d9f-f23e89b457d8",
   "metadata": {
    "tags": []
   },
   "outputs": [
    {
     "data": {
      "image/png": "[encoded data removed]",
      "text/plain": [
       "<Figure size 640x480 with 1 Axes>"
      ]
     },
     "metadata": {},
     "output_type": "display_data"
    }
   ],
   "source": [
    "OA = np.array([-2, 0])\n",
    "OB = np.array([1, 2])\n",
    "OC = np.array([1, -1])\n",
    "\n",
    "AB = OB - OA\n",
    "BC = OC - OB\n",
    "\n",
    "plt.grid()\n",
    "plt.arrow(-2, 0, AB[0], AB[1], length_includes_head=True, color='Brown')\n",
    "plt.arrow(1, 2, BC[0], BC[1], length_includes_head=True, color='Red')\n",
    "plt.arrow(-2, 0, BC[0], BC[1], length_includes_head=True, color='Orange')\n",
    "plt.arrow(-2, -3, 3, 2, length_includes_head=True, color='Blue')\n",
    "plt.show()"
   ]
  },
  {
   "cell_type": "markdown",
   "id": "b98f3002-1e1b-4e10-8bca-a5d3d28764ba",
   "metadata": {},
   "source": [
    "Координаты точки D = (-2, -3)"
   ]
  },
  {
   "cell_type": "markdown",
   "id": "1e2e29fc-4a26-4ec1-94d2-213672073088",
   "metadata": {},
   "source": [
    "Упражнение 3.2"
   ]
  },
  {
   "cell_type": "code",
   "execution_count": 24,
   "id": "3d90d9ef-acf6-4c40-a2b1-c46b17b89928",
   "metadata": {
    "tags": []
   },
   "outputs": [
    {
     "name": "stdout",
     "output_type": "stream",
     "text": [
      "Векторы образуют базис\n"
     ]
    }
   ],
   "source": [
    "a = np.array([1, -2, 0])\n",
    "b = np.array([0, 1, 1])\n",
    "c = np.array([1, 2, 2])\n",
    "\n",
    "matr = np.array([a, b, c])\n",
    "\n",
    "determ = np.linalg.det(matr)\n",
    "\n",
    "if determ != 0:\n",
    "    print(\"Векторы образуют базис\")"
   ]
  },
  {
   "cell_type": "markdown",
   "id": "fb34136d-9370-46f6-8801-34817441a1e0",
   "metadata": {},
   "source": [
    "Упражнение 3.3"
   ]
  },
  {
   "cell_type": "code",
   "execution_count": 37,
   "id": "fa319986-921b-409d-b967-cfa0bb43742e",
   "metadata": {
    "tags": []
   },
   "outputs": [
    {
     "name": "stdout",
     "output_type": "stream",
     "text": [
      "S = (-1)a + (2)b + (-2)c\n"
     ]
    }
   ],
   "source": [
    "S = Matrix([1, 1, 1])\n",
    "\n",
    "c = Matrix([[1, 1, 0], [-1, 1, 1], [1, 0, -1]])\n",
    "\n",
    "solution = c.inv() * S\n",
    "\n",
    "print(f'S = ({solution[0]})a + ({solution[1]})b + ({solution[2]})c')"
   ]
  },
  {
   "cell_type": "markdown",
   "id": "fb1458e6-d42f-41aa-bc07-95aeeca34ee1",
   "metadata": {},
   "source": [
    "Упражнение 3.4"
   ]
  },
  {
   "cell_type": "code",
   "execution_count": 40,
   "id": "05951164-3500-49fa-b989-95bb123f588d",
   "metadata": {
    "tags": []
   },
   "outputs": [
    {
     "data": {
      "image/png": "[encoded data removed]",
      "text/plain": [
       "<Figure size 640x480 with 1 Axes>"
      ]
     },
     "metadata": {},
     "output_type": "display_data"
    },
    {
     "name": "stdout",
     "output_type": "stream",
     "text": [
      "Угол в градусах(ABC): 62.65012421993012\n",
      "Угол в градусах(BCA): 69.22774531795417\n",
      "Угол в градусах(BCA): 48.122130462115706\n",
      "проверка свойства суммы углов треугольника пройдена\n"
     ]
    }
   ],
   "source": [
    "OA=np.array([-2,0])\n",
    "OB=np.array([3,4])\n",
    "OC=np.array([4,-1])\n",
    "\n",
    "AB = OB - OA\n",
    "BC = OC - OB\n",
    "AC= OA-OC\n",
    "\n",
    "plt.grid()\n",
    "plt.ylim(-3, 4)\n",
    "plt.xlim(-3, 4)\n",
    "plt.arrow(-2, 0, AB[0], AB[1], color='Yellow')\n",
    "plt.arrow(3, 4, BC[0], BC[1], color='Red')\n",
    "plt.arrow(4, -1, AC[0], AC[1], color='Black')\n",
    "plt.show()\n",
    "\n",
    "cos_angle = np.dot(AB,BC) / np.linalg.norm(AB) / np.linalg.norm(BC)\n",
    "alfa= np.arccos(cos_angle)\n",
    "alfab=180-math.degrees(alfa)\n",
    "print ('Угол в градусах(ABC):',alfab)\n",
    "\n",
    "cos_angle = np.dot(BC,AC) / np.linalg.norm(BC) / np.linalg.norm(AC)\n",
    "alfa= np.arccos(cos_angle)\n",
    "alfac=180-math.degrees(alfa)\n",
    "print ('Угол в градусах(BCA):',alfac)\n",
    "\n",
    "cos_angle = np.dot(AC,AB) / np.linalg.norm(AC) / np.linalg.norm(AB)\n",
    "alfa= np.arccos(cos_angle)\n",
    "alfaa=180-math.degrees(alfa)\n",
    "print ('Угол в градусах(BCA):',alfaa)\n",
    "\n",
    "if alfab+alfac+alfaa==180:\n",
    "    print('проверка свойства суммы углов треугольника пройдена')"
   ]
  },
  {
   "cell_type": "markdown",
   "id": "836e695f-b03c-46ce-affa-3a5a5ca9d366",
   "metadata": {},
   "source": [
    "Упражение 3.5"
   ]
  },
  {
   "cell_type": "code",
   "execution_count": 41,
   "id": "79545f8d-b592-44ce-843a-93bfc3a15fc3",
   "metadata": {
    "tags": []
   },
   "outputs": [
    {
     "name": "stdout",
     "output_type": "stream",
     "text": [
      "[ 0  0 -3]\n"
     ]
    }
   ],
   "source": [
    "a = np.array([1, 2, 0])\n",
    "b = np.array([2, 1, 0])\n",
    "print(np.cross(a, b))"
   ]
  },
  {
   "cell_type": "markdown",
   "id": "029c7809-91a6-4309-9211-26eec55fceb4",
   "metadata": {},
   "source": [
    "Упражнение 3.6"
   ]
  },
  {
   "cell_type": "code",
   "execution_count": 42,
   "id": "be5e9e97-6bd7-44d3-a45a-0c5eebd8125e",
   "metadata": {
    "tags": []
   },
   "outputs": [
    {
     "name": "stdout",
     "output_type": "stream",
     "text": [
      "Площадь треугольника: 10.319883720275147\n",
      "Модуль векторного произведения: 20.639767440550294\n",
      "соотношение площади треугольника и модуля векторного произведения: 2.0\n"
     ]
    }
   ],
   "source": [
    "OA = np.array([1,3,-1])\n",
    "OB = np.array([2, -1, 4])\n",
    "OC = np.array([5,0,3])\n",
    "\n",
    "AB=OB-OA\n",
    "AC=OC-OA\n",
    "\n",
    "cos_angle=np.dot(AB,AC)/np.linalg.norm(AB)/np.linalg.norm(AC)\n",
    "sin_angle=np.sqrt(1-(cos_angle)**2)\n",
    "\n",
    "S=0.5*np.linalg.norm(AB)*np.linalg.norm(AC)*sin_angle\n",
    "print('Площадь треугольника:',S)\n",
    "\n",
    "crossABAC=np.cross(AB,AC)\n",
    "sumcross=0\n",
    "for cross in crossABAC:\n",
    "    sumcross+=cross**2\n",
    "    \n",
    "print('Модуль векторного произведения:',np.sqrt(sumcross))\n",
    "print('соотношение площади треугольника и модуля векторного произведения:',(np.sqrt(sumcross)/S))"
   ]
  },
  {
   "cell_type": "markdown",
   "id": "c4b083fc-9a1f-465d-8299-182d674a8271",
   "metadata": {},
   "source": [
    "Упражнение С1"
   ]
  },
  {
   "cell_type": "code",
   "execution_count": 44,
   "id": "b230671c-907d-4fbd-a2d8-c65d3fb68f34",
   "metadata": {
    "tags": []
   },
   "outputs": [
    {
     "name": "stdout",
     "output_type": "stream",
     "text": [
      "9.0\n",
      "проверка пройдена\n"
     ]
    }
   ],
   "source": [
    "AB=np.array([3,4,0])\n",
    "AC=np.array([-3,0,1])\n",
    "AD=np.array([0,2,5])\n",
    "\n",
    "D=np.matrix('3 4 0; -3 0 1; 0 2 5')\n",
    "dot_v=(1/6)*np.dot(AB,np.cross(AC,AD))\n",
    "\n",
    "S=(1/6)*(np.linalg.det(D))\n",
    "print(S)\n",
    "\n",
    "if dot_v==S:\n",
    "    print('проверка пройдена')"
   ]
  },
  {
   "cell_type": "code",
   "execution_count": null,
   "id": "57c8cc55-390e-4fe8-b885-d70d5bd2211b",
   "metadata": {},
   "outputs": [],
   "source": []
  }
 ],
 "metadata": {
  "kernelspec": {
   "display_name": "Python 3 (ipykernel)",
   "language": "python",
   "name": "python3"
  },
  "language_info": {
   "codemirror_mode": {
    "name": "ipython",
    "version": 3
   },
   "file_extension": ".py",
   "mimetype": "text/x-python",
   "name": "python",
   "nbconvert_exporter": "python",
   "pygments_lexer": "ipython3",
   "version": "3.11.5"
  }
 },
 "nbformat": 4,
 "nbformat_minor": 5
}
